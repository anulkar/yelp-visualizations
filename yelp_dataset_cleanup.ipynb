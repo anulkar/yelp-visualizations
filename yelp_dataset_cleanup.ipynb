{
 "cells": [
  {
   "cell_type": "code",
   "execution_count": 1,
   "metadata": {},
   "outputs": [],
   "source": [
    "# Import Dependencies\n",
    "import pandas as pd\n",
    "import numpy as np"
   ]
  },
  {
   "cell_type": "code",
   "execution_count": 2,
   "metadata": {},
   "outputs": [],
   "source": [
    "# Read Yelp's Business JSON dataset using Pandas\n",
    "yelp_business_data_path = \"static/assets/data/yelp_academic_dataset_business.json\"\n",
    "yelp_business_data = pd.read_json(yelp_business_data_path, lines=True)"
   ]
  },
  {
   "cell_type": "code",
   "execution_count": 3,
   "metadata": {},
   "outputs": [],
   "source": [
    "# Read Yelp's category CSV dataset using Pandas\n",
    "yelp_categories_path = \"static/assets/data/yelp_categories.csv\"\n",
    "yelp_categories = pd.read_csv(yelp_categories_path)"
   ]
  },
  {
   "cell_type": "code",
   "execution_count": 4,
   "metadata": {},
   "outputs": [
    {
     "output_type": "stream",
     "name": "stdout",
     "text": "(209393, 14)\n"
    },
    {
     "output_type": "execute_result",
     "data": {
      "text/plain": "              business_id                      name  \\\n0  f9NumwFMBDn751xgFiRbNA  The Range At Lake Norman   \n1  Yzvjg0SayhoZgCljUJRF9Q         Carlos Santo, NMD   \n2  XNoUzKckATkOD1hP6vghZg                   Felinus   \n3  6OAZjbxqM5ol29BuHsil3w      Nevada House of Hose   \n4  51M2Kk903DFYI6gnB5I6SQ   USE MY GUY SERVICES LLC   \n\n                     address             city state postal_code   latitude  \\\n0            10913 Bailey Rd        Cornelius    NC       28031  35.462724   \n1  8880 E Via Linda, Ste 107       Scottsdale    AZ       85258  33.569404   \n2      3554 Rue Notre-Dame O         Montreal    QC     H4C 1P4  45.479984   \n3             1015 Sharp Cir  North Las Vegas    NV       89030  36.219728   \n4         4827 E Downing Cir             Mesa    AZ       85205  33.428065   \n\n    longitude  stars  review_count  is_open  \\\n0  -80.852612    3.5            36        1   \n1 -111.890264    5.0             4        1   \n2  -73.580070    5.0             5        1   \n3 -115.127725    2.5             3        0   \n4 -111.726648    4.5            26        1   \n\n                                          attributes  \\\n0  {'BusinessAcceptsCreditCards': 'True', 'BikePa...   \n1  {'GoodForKids': 'True', 'ByAppointmentOnly': '...   \n2                                               None   \n3  {'BusinessAcceptsCreditCards': 'True', 'ByAppo...   \n4  {'BusinessAcceptsCreditCards': 'True', 'ByAppo...   \n\n                                          categories  \\\n0  Active Life, Gun/Rifle Ranges, Guns & Ammo, Sh...   \n1  Health & Medical, Fitness & Instruction, Yoga,...   \n2                   Pets, Pet Services, Pet Groomers   \n3  Hardware Stores, Home Services, Building Suppl...   \n4  Home Services, Plumbing, Electricians, Handyma...   \n\n                                               hours  \n0  {'Monday': '10:0-18:0', 'Tuesday': '11:0-20:0'...  \n1                                               None  \n2                                               None  \n3  {'Monday': '7:0-16:0', 'Tuesday': '7:0-16:0', ...  \n4  {'Monday': '0:0-0:0', 'Tuesday': '9:0-16:0', '...  ",
      "text/html": "<div>\n<style scoped>\n    .dataframe tbody tr th:only-of-type {\n        vertical-align: middle;\n    }\n\n    .dataframe tbody tr th {\n        vertical-align: top;\n    }\n\n    .dataframe thead th {\n        text-align: right;\n    }\n</style>\n<table border=\"1\" class=\"dataframe\">\n  <thead>\n    <tr style=\"text-align: right;\">\n      <th></th>\n      <th>business_id</th>\n      <th>name</th>\n      <th>address</th>\n      <th>city</th>\n      <th>state</th>\n      <th>postal_code</th>\n      <th>latitude</th>\n      <th>longitude</th>\n      <th>stars</th>\n      <th>review_count</th>\n      <th>is_open</th>\n      <th>attributes</th>\n      <th>categories</th>\n      <th>hours</th>\n    </tr>\n  </thead>\n  <tbody>\n    <tr>\n      <th>0</th>\n      <td>f9NumwFMBDn751xgFiRbNA</td>\n      <td>The Range At Lake Norman</td>\n      <td>10913 Bailey Rd</td>\n      <td>Cornelius</td>\n      <td>NC</td>\n      <td>28031</td>\n      <td>35.462724</td>\n      <td>-80.852612</td>\n      <td>3.5</td>\n      <td>36</td>\n      <td>1</td>\n      <td>{'BusinessAcceptsCreditCards': 'True', 'BikePa...</td>\n      <td>Active Life, Gun/Rifle Ranges, Guns &amp; Ammo, Sh...</td>\n      <td>{'Monday': '10:0-18:0', 'Tuesday': '11:0-20:0'...</td>\n    </tr>\n    <tr>\n      <th>1</th>\n      <td>Yzvjg0SayhoZgCljUJRF9Q</td>\n      <td>Carlos Santo, NMD</td>\n      <td>8880 E Via Linda, Ste 107</td>\n      <td>Scottsdale</td>\n      <td>AZ</td>\n      <td>85258</td>\n      <td>33.569404</td>\n      <td>-111.890264</td>\n      <td>5.0</td>\n      <td>4</td>\n      <td>1</td>\n      <td>{'GoodForKids': 'True', 'ByAppointmentOnly': '...</td>\n      <td>Health &amp; Medical, Fitness &amp; Instruction, Yoga,...</td>\n      <td>None</td>\n    </tr>\n    <tr>\n      <th>2</th>\n      <td>XNoUzKckATkOD1hP6vghZg</td>\n      <td>Felinus</td>\n      <td>3554 Rue Notre-Dame O</td>\n      <td>Montreal</td>\n      <td>QC</td>\n      <td>H4C 1P4</td>\n      <td>45.479984</td>\n      <td>-73.580070</td>\n      <td>5.0</td>\n      <td>5</td>\n      <td>1</td>\n      <td>None</td>\n      <td>Pets, Pet Services, Pet Groomers</td>\n      <td>None</td>\n    </tr>\n    <tr>\n      <th>3</th>\n      <td>6OAZjbxqM5ol29BuHsil3w</td>\n      <td>Nevada House of Hose</td>\n      <td>1015 Sharp Cir</td>\n      <td>North Las Vegas</td>\n      <td>NV</td>\n      <td>89030</td>\n      <td>36.219728</td>\n      <td>-115.127725</td>\n      <td>2.5</td>\n      <td>3</td>\n      <td>0</td>\n      <td>{'BusinessAcceptsCreditCards': 'True', 'ByAppo...</td>\n      <td>Hardware Stores, Home Services, Building Suppl...</td>\n      <td>{'Monday': '7:0-16:0', 'Tuesday': '7:0-16:0', ...</td>\n    </tr>\n    <tr>\n      <th>4</th>\n      <td>51M2Kk903DFYI6gnB5I6SQ</td>\n      <td>USE MY GUY SERVICES LLC</td>\n      <td>4827 E Downing Cir</td>\n      <td>Mesa</td>\n      <td>AZ</td>\n      <td>85205</td>\n      <td>33.428065</td>\n      <td>-111.726648</td>\n      <td>4.5</td>\n      <td>26</td>\n      <td>1</td>\n      <td>{'BusinessAcceptsCreditCards': 'True', 'ByAppo...</td>\n      <td>Home Services, Plumbing, Electricians, Handyma...</td>\n      <td>{'Monday': '0:0-0:0', 'Tuesday': '9:0-16:0', '...</td>\n    </tr>\n  </tbody>\n</table>\n</div>"
     },
     "metadata": {},
     "execution_count": 4
    }
   ],
   "source": [
    "# Verify business data\n",
    "print(yelp_business_data.shape)\n",
    "yelp_business_data.head()"
   ]
  },
  {
   "cell_type": "code",
   "execution_count": 5,
   "metadata": {},
   "outputs": [
    {
     "output_type": "stream",
     "name": "stdout",
     "text": "(22, 1)\n"
    },
    {
     "output_type": "execute_result",
     "data": {
      "text/plain": "             categories\n0           Active Life\n1  Arts & Entertainment\n2            Automotive\n3         Beauty & Spas\n4             Education",
      "text/html": "<div>\n<style scoped>\n    .dataframe tbody tr th:only-of-type {\n        vertical-align: middle;\n    }\n\n    .dataframe tbody tr th {\n        vertical-align: top;\n    }\n\n    .dataframe thead th {\n        text-align: right;\n    }\n</style>\n<table border=\"1\" class=\"dataframe\">\n  <thead>\n    <tr style=\"text-align: right;\">\n      <th></th>\n      <th>categories</th>\n    </tr>\n  </thead>\n  <tbody>\n    <tr>\n      <th>0</th>\n      <td>Active Life</td>\n    </tr>\n    <tr>\n      <th>1</th>\n      <td>Arts &amp; Entertainment</td>\n    </tr>\n    <tr>\n      <th>2</th>\n      <td>Automotive</td>\n    </tr>\n    <tr>\n      <th>3</th>\n      <td>Beauty &amp; Spas</td>\n    </tr>\n    <tr>\n      <th>4</th>\n      <td>Education</td>\n    </tr>\n  </tbody>\n</table>\n</div>"
     },
     "metadata": {},
     "execution_count": 5
    }
   ],
   "source": [
    "# Verify category data\n",
    "print(yelp_categories.shape)\n",
    "yelp_categories.head()"
   ]
  },
  {
   "cell_type": "code",
   "execution_count": 6,
   "metadata": {},
   "outputs": [
    {
     "output_type": "execute_result",
     "data": {
      "text/plain": "1    168903\n0     40490\nName: is_open, dtype: int64"
     },
     "metadata": {},
     "execution_count": 6
    }
   ],
   "source": [
    "# Verify number of businesses in the dataset that are identified as open (\"1\") and closed (\"0\") for business\n",
    "yelp_business_data.is_open.value_counts()"
   ]
  },
  {
   "cell_type": "code",
   "execution_count": 7,
   "metadata": {},
   "outputs": [
    {
     "output_type": "stream",
     "name": "stdout",
     "text": "(168903, 14)\n"
    },
    {
     "output_type": "execute_result",
     "data": {
      "text/plain": "              business_id                         name  \\\n0  f9NumwFMBDn751xgFiRbNA     The Range At Lake Norman   \n1  Yzvjg0SayhoZgCljUJRF9Q            Carlos Santo, NMD   \n2  XNoUzKckATkOD1hP6vghZg                      Felinus   \n4  51M2Kk903DFYI6gnB5I6SQ      USE MY GUY SERVICES LLC   \n5  cKyLV5oWZJ2NudWgqs8VZw  Oasis Auto Center - Gilbert   \n\n                     address        city state postal_code   latitude  \\\n0            10913 Bailey Rd   Cornelius    NC       28031  35.462724   \n1  8880 E Via Linda, Ste 107  Scottsdale    AZ       85258  33.569404   \n2      3554 Rue Notre-Dame O    Montreal    QC     H4C 1P4  45.479984   \n4         4827 E Downing Cir        Mesa    AZ       85205  33.428065   \n5  1720 W Elliot Rd, Ste 105     Gilbert    AZ       85233  33.350399   \n\n    longitude  stars  review_count  is_open  \\\n0  -80.852612    3.5            36        1   \n1 -111.890264    5.0             4        1   \n2  -73.580070    5.0             5        1   \n4 -111.726648    4.5            26        1   \n5 -111.827142    4.5            38        1   \n\n                                          attributes  \\\n0  {'BusinessAcceptsCreditCards': 'True', 'BikePa...   \n1  {'GoodForKids': 'True', 'ByAppointmentOnly': '...   \n2                                               None   \n4  {'BusinessAcceptsCreditCards': 'True', 'ByAppo...   \n5             {'BusinessAcceptsCreditCards': 'True'}   \n\n                                          categories  \\\n0  Active Life, Gun/Rifle Ranges, Guns & Ammo, Sh...   \n1  Health & Medical, Fitness & Instruction, Yoga,...   \n2                   Pets, Pet Services, Pet Groomers   \n4  Home Services, Plumbing, Electricians, Handyma...   \n5  Auto Repair, Automotive, Oil Change Stations, ...   \n\n                                               hours  \n0  {'Monday': '10:0-18:0', 'Tuesday': '11:0-20:0'...  \n1                                               None  \n2                                               None  \n4  {'Monday': '0:0-0:0', 'Tuesday': '9:0-16:0', '...  \n5  {'Monday': '7:0-18:0', 'Tuesday': '7:0-18:0', ...  ",
      "text/html": "<div>\n<style scoped>\n    .dataframe tbody tr th:only-of-type {\n        vertical-align: middle;\n    }\n\n    .dataframe tbody tr th {\n        vertical-align: top;\n    }\n\n    .dataframe thead th {\n        text-align: right;\n    }\n</style>\n<table border=\"1\" class=\"dataframe\">\n  <thead>\n    <tr style=\"text-align: right;\">\n      <th></th>\n      <th>business_id</th>\n      <th>name</th>\n      <th>address</th>\n      <th>city</th>\n      <th>state</th>\n      <th>postal_code</th>\n      <th>latitude</th>\n      <th>longitude</th>\n      <th>stars</th>\n      <th>review_count</th>\n      <th>is_open</th>\n      <th>attributes</th>\n      <th>categories</th>\n      <th>hours</th>\n    </tr>\n  </thead>\n  <tbody>\n    <tr>\n      <th>0</th>\n      <td>f9NumwFMBDn751xgFiRbNA</td>\n      <td>The Range At Lake Norman</td>\n      <td>10913 Bailey Rd</td>\n      <td>Cornelius</td>\n      <td>NC</td>\n      <td>28031</td>\n      <td>35.462724</td>\n      <td>-80.852612</td>\n      <td>3.5</td>\n      <td>36</td>\n      <td>1</td>\n      <td>{'BusinessAcceptsCreditCards': 'True', 'BikePa...</td>\n      <td>Active Life, Gun/Rifle Ranges, Guns &amp; Ammo, Sh...</td>\n      <td>{'Monday': '10:0-18:0', 'Tuesday': '11:0-20:0'...</td>\n    </tr>\n    <tr>\n      <th>1</th>\n      <td>Yzvjg0SayhoZgCljUJRF9Q</td>\n      <td>Carlos Santo, NMD</td>\n      <td>8880 E Via Linda, Ste 107</td>\n      <td>Scottsdale</td>\n      <td>AZ</td>\n      <td>85258</td>\n      <td>33.569404</td>\n      <td>-111.890264</td>\n      <td>5.0</td>\n      <td>4</td>\n      <td>1</td>\n      <td>{'GoodForKids': 'True', 'ByAppointmentOnly': '...</td>\n      <td>Health &amp; Medical, Fitness &amp; Instruction, Yoga,...</td>\n      <td>None</td>\n    </tr>\n    <tr>\n      <th>2</th>\n      <td>XNoUzKckATkOD1hP6vghZg</td>\n      <td>Felinus</td>\n      <td>3554 Rue Notre-Dame O</td>\n      <td>Montreal</td>\n      <td>QC</td>\n      <td>H4C 1P4</td>\n      <td>45.479984</td>\n      <td>-73.580070</td>\n      <td>5.0</td>\n      <td>5</td>\n      <td>1</td>\n      <td>None</td>\n      <td>Pets, Pet Services, Pet Groomers</td>\n      <td>None</td>\n    </tr>\n    <tr>\n      <th>4</th>\n      <td>51M2Kk903DFYI6gnB5I6SQ</td>\n      <td>USE MY GUY SERVICES LLC</td>\n      <td>4827 E Downing Cir</td>\n      <td>Mesa</td>\n      <td>AZ</td>\n      <td>85205</td>\n      <td>33.428065</td>\n      <td>-111.726648</td>\n      <td>4.5</td>\n      <td>26</td>\n      <td>1</td>\n      <td>{'BusinessAcceptsCreditCards': 'True', 'ByAppo...</td>\n      <td>Home Services, Plumbing, Electricians, Handyma...</td>\n      <td>{'Monday': '0:0-0:0', 'Tuesday': '9:0-16:0', '...</td>\n    </tr>\n    <tr>\n      <th>5</th>\n      <td>cKyLV5oWZJ2NudWgqs8VZw</td>\n      <td>Oasis Auto Center - Gilbert</td>\n      <td>1720 W Elliot Rd, Ste 105</td>\n      <td>Gilbert</td>\n      <td>AZ</td>\n      <td>85233</td>\n      <td>33.350399</td>\n      <td>-111.827142</td>\n      <td>4.5</td>\n      <td>38</td>\n      <td>1</td>\n      <td>{'BusinessAcceptsCreditCards': 'True'}</td>\n      <td>Auto Repair, Automotive, Oil Change Stations, ...</td>\n      <td>{'Monday': '7:0-18:0', 'Tuesday': '7:0-18:0', ...</td>\n    </tr>\n  </tbody>\n</table>\n</div>"
     },
     "metadata": {},
     "execution_count": 7
    }
   ],
   "source": [
    "# Filter out businesses that are closed; save only the ones that are open into a new DataFrame\n",
    "yelp_business_data_new = yelp_business_data[yelp_business_data['is_open']==1]\n",
    "# Verify the open businesses\n",
    "print(yelp_business_data_new.shape)\n",
    "yelp_business_data_new.head()"
   ]
  },
  {
   "cell_type": "code",
   "execution_count": 8,
   "metadata": {},
   "outputs": [],
   "source": [
    "# Convert/Save the DataFrame of Yelp businessess to a new JSON records file\n",
    "# orientation = \"records\"\n",
    "# yelp_business_data_new.to_json(f\"static/assets/data/yelp_converted_business_dataset_{orientation}.json\", orient=orientation)"
   ]
  },
  {
   "cell_type": "code",
   "execution_count": 9,
   "metadata": {},
   "outputs": [
    {
     "output_type": "execute_result",
     "data": {
      "text/plain": "AZ     49415\nNV     31180\nON     28433\nOH     13762\nNC     13433\nPA     10206\nQC      8215\nAB      7038\nWI      4433\nIL      1593\nSC      1113\nNY        22\nCA        21\nTX         5\nWA         4\nGA         3\nAL         3\nMI         2\nBC         2\nUT         2\nCO         2\nVT         2\nNE         2\nFL         2\nMO         1\nMB         1\nDUR        1\nHPL        1\nYT         1\nHI         1\nDOW        1\nOR         1\nVA         1\nCT         1\nName: state, dtype: int64"
     },
     "metadata": {},
     "execution_count": 9
    }
   ],
   "source": [
    "# Verify the number of businesses in the dataset by State\n",
    "yelp_business_data_new.state.value_counts()"
   ]
  },
  {
   "cell_type": "code",
   "execution_count": 10,
   "metadata": {},
   "outputs": [
    {
     "output_type": "execute_result",
     "data": {
      "text/plain": "Las Vegas          25043\nPhoenix            16305\nToronto            14962\nCharlotte           8500\nScottsdale          7341\nCalgary             6772\nPittsburgh          6107\nMesa                5482\nMontréal            5367\nHenderson           4293\nTempe               3688\nChandler            3671\nGilbert             3171\nGlendale            3165\nCleveland           3082\nMississauga         3001\nMadison             2888\nPeoria              1778\nMarkham             1510\nNorth Las Vegas     1416\nNorth York          1084\nSurprise            1036\nScarborough         1030\nChampaign           1018\nBrampton            1007\nConcord              975\nRichmond Hill        868\nVaughan              862\nGoodyear             812\nEtobicoke            714\nMatthews             656\nAvondale             616\nHuntersville         588\nFort Mill            566\nGastonia             493\nMentor               485\nLakewood             445\nAkron                428\nLaval                413\nCornelius            402\nMonroeville          373\nWestlake             366\nStrongsville         366\nThornhill            361\nNorth Olmsted        359\nMedina               358\nAurora               355\nNewmarket            354\nCave Creek           350\nCuyahoga Falls       343\nName: city, dtype: int64"
     },
     "metadata": {},
     "execution_count": 10
    }
   ],
   "source": [
    "# Verify the number of businesses in the dataset by City\n",
    "yelp_business_data_new.city.value_counts().head(50)"
   ]
  },
  {
   "cell_type": "code",
   "execution_count": 11,
   "metadata": {},
   "outputs": [
    {
     "output_type": "execute_result",
     "data": {
      "text/plain": "               business_id                                               name  \\\n9   EosRKXIGeSWFYWwpkbhNnA                                     Xtreme Couture   \n26  1wWneWD_E1pBIyVpdHMaQg                                   Air Jordan Store   \n52  9JCjKd6eFXsAMVwouTh_4Q                                Bath and Body Works   \n73  0QjROMVW9ACKjhSEfHqNCQ                                   Mi Mi Restaurant   \n74  OT-8IUWo_2M-rHddjzz_Cg  Equipment Sales and Long Term Rentals - Redlin...   \n\n                                 address     city state postal_code  \\\n9           700 Kipling Avenue Etobicoke  Toronto    ON     M8Z 5G3   \n26                      306 Yonge Street  Toronto    ON     M5B 1R4   \n52                  1900 Eglintion Ave E  Toronto    ON     M1L 2L9   \n73                  688 Gerrard Street E  Toronto    ON     M4M 1Y3   \n74  510 Coronation Dr. Unit #18, Unit 18  Toronto    ON     M1E 4X6   \n\n     latitude  longitude  stars  review_count  is_open  \\\n9   43.624539 -79.529108    3.0            16        1   \n26  43.656542 -79.381308    4.0             9        1   \n52  43.727189 -79.293008    3.5             7        1   \n73  43.666376 -79.348773    4.0           116        1   \n74  43.765266 -79.166977    1.5             3        1   \n\n                                           attributes  \\\n9   {'GoodForKids': 'True', 'ByAppointmentOnly': '...   \n26  {'RestaurantsPriceRange2': '3', 'BikeParking':...   \n52  {'RestaurantsPriceRange2': '2', 'ByAppointment...   \n73  {'RestaurantsTakeOut': 'True', 'Alcohol': 'u'b...   \n74                   {'WheelchairAccessible': 'True'}   \n\n                                           categories  \\\n9   Martial Arts, Gyms, Fitness & Instruction, Act...   \n26                     Shopping, Shoe Stores, Fashion   \n52  Cosmetics & Beauty Supply, Shopping, Beauty & ...   \n73                            Vietnamese, Restaurants   \n74  Event Planning & Services, Photo Booth Rentals...   \n\n                                                hours  \n9   {'Monday': '5:30-23:0', 'Tuesday': '5:30-23:0'...  \n26  {'Monday': '10:0-21:0', 'Tuesday': '10:0-21:0'...  \n52                                               None  \n73  {'Monday': '11:0-22:0', 'Tuesday': '11:0-22:0'...  \n74                             {'Monday': '9:0-17:0'}  ",
      "text/html": "<div>\n<style scoped>\n    .dataframe tbody tr th:only-of-type {\n        vertical-align: middle;\n    }\n\n    .dataframe tbody tr th {\n        vertical-align: top;\n    }\n\n    .dataframe thead th {\n        text-align: right;\n    }\n</style>\n<table border=\"1\" class=\"dataframe\">\n  <thead>\n    <tr style=\"text-align: right;\">\n      <th></th>\n      <th>business_id</th>\n      <th>name</th>\n      <th>address</th>\n      <th>city</th>\n      <th>state</th>\n      <th>postal_code</th>\n      <th>latitude</th>\n      <th>longitude</th>\n      <th>stars</th>\n      <th>review_count</th>\n      <th>is_open</th>\n      <th>attributes</th>\n      <th>categories</th>\n      <th>hours</th>\n    </tr>\n  </thead>\n  <tbody>\n    <tr>\n      <th>9</th>\n      <td>EosRKXIGeSWFYWwpkbhNnA</td>\n      <td>Xtreme Couture</td>\n      <td>700 Kipling Avenue Etobicoke</td>\n      <td>Toronto</td>\n      <td>ON</td>\n      <td>M8Z 5G3</td>\n      <td>43.624539</td>\n      <td>-79.529108</td>\n      <td>3.0</td>\n      <td>16</td>\n      <td>1</td>\n      <td>{'GoodForKids': 'True', 'ByAppointmentOnly': '...</td>\n      <td>Martial Arts, Gyms, Fitness &amp; Instruction, Act...</td>\n      <td>{'Monday': '5:30-23:0', 'Tuesday': '5:30-23:0'...</td>\n    </tr>\n    <tr>\n      <th>26</th>\n      <td>1wWneWD_E1pBIyVpdHMaQg</td>\n      <td>Air Jordan Store</td>\n      <td>306 Yonge Street</td>\n      <td>Toronto</td>\n      <td>ON</td>\n      <td>M5B 1R4</td>\n      <td>43.656542</td>\n      <td>-79.381308</td>\n      <td>4.0</td>\n      <td>9</td>\n      <td>1</td>\n      <td>{'RestaurantsPriceRange2': '3', 'BikeParking':...</td>\n      <td>Shopping, Shoe Stores, Fashion</td>\n      <td>{'Monday': '10:0-21:0', 'Tuesday': '10:0-21:0'...</td>\n    </tr>\n    <tr>\n      <th>52</th>\n      <td>9JCjKd6eFXsAMVwouTh_4Q</td>\n      <td>Bath and Body Works</td>\n      <td>1900 Eglintion Ave E</td>\n      <td>Toronto</td>\n      <td>ON</td>\n      <td>M1L 2L9</td>\n      <td>43.727189</td>\n      <td>-79.293008</td>\n      <td>3.5</td>\n      <td>7</td>\n      <td>1</td>\n      <td>{'RestaurantsPriceRange2': '2', 'ByAppointment...</td>\n      <td>Cosmetics &amp; Beauty Supply, Shopping, Beauty &amp; ...</td>\n      <td>None</td>\n    </tr>\n    <tr>\n      <th>73</th>\n      <td>0QjROMVW9ACKjhSEfHqNCQ</td>\n      <td>Mi Mi Restaurant</td>\n      <td>688 Gerrard Street E</td>\n      <td>Toronto</td>\n      <td>ON</td>\n      <td>M4M 1Y3</td>\n      <td>43.666376</td>\n      <td>-79.348773</td>\n      <td>4.0</td>\n      <td>116</td>\n      <td>1</td>\n      <td>{'RestaurantsTakeOut': 'True', 'Alcohol': 'u'b...</td>\n      <td>Vietnamese, Restaurants</td>\n      <td>{'Monday': '11:0-22:0', 'Tuesday': '11:0-22:0'...</td>\n    </tr>\n    <tr>\n      <th>74</th>\n      <td>OT-8IUWo_2M-rHddjzz_Cg</td>\n      <td>Equipment Sales and Long Term Rentals - Redlin...</td>\n      <td>510 Coronation Dr. Unit #18, Unit 18</td>\n      <td>Toronto</td>\n      <td>ON</td>\n      <td>M1E 4X6</td>\n      <td>43.765266</td>\n      <td>-79.166977</td>\n      <td>1.5</td>\n      <td>3</td>\n      <td>1</td>\n      <td>{'WheelchairAccessible': 'True'}</td>\n      <td>Event Planning &amp; Services, Photo Booth Rentals...</td>\n      <td>{'Monday': '9:0-17:0'}</td>\n    </tr>\n  </tbody>\n</table>\n</div>"
     },
     "metadata": {},
     "execution_count": 11
    }
   ],
   "source": [
    "# Filter on businesses that are in Toronto ON, and have category data, dataframe was already filtered on being open\n",
    "yelp_toronto_data = yelp_business_data_new[yelp_business_data_new['categories'].notnull() & (yelp_business_data_new['city'] == \"Toronto\")& (yelp_business_data_new['state'] == \"ON\")]\n",
    "#yelp_toronto_data.describe()\n",
    "yelp_toronto_data.head()"
   ]
  },
  {
   "cell_type": "code",
   "execution_count": 12,
   "metadata": {},
   "outputs": [],
   "source": [
    "# Export DF to CSV\n",
    "#yelp_toronto_data.to_csv('toronto_data.csv')"
   ]
  },
  {
   "cell_type": "code",
   "execution_count": 13,
   "metadata": {},
   "outputs": [
    {
     "output_type": "execute_result",
     "data": {
      "text/plain": "              business_id                                               name  \\\n0  EosRKXIGeSWFYWwpkbhNnA                                     Xtreme Couture   \n1  1wWneWD_E1pBIyVpdHMaQg                                   Air Jordan Store   \n2  9JCjKd6eFXsAMVwouTh_4Q                                Bath and Body Works   \n3  0QjROMVW9ACKjhSEfHqNCQ                                   Mi Mi Restaurant   \n4  OT-8IUWo_2M-rHddjzz_Cg  Equipment Sales and Long Term Rentals - Redlin...   \n\n                                address     city state postal_code   latitude  \\\n0          700 Kipling Avenue Etobicoke  Toronto    ON     M8Z 5G3  43.624539   \n1                      306 Yonge Street  Toronto    ON     M5B 1R4  43.656542   \n2                  1900 Eglintion Ave E  Toronto    ON     M1L 2L9  43.727189   \n3                  688 Gerrard Street E  Toronto    ON     M4M 1Y3  43.666376   \n4  510 Coronation Dr. Unit #18, Unit 18  Toronto    ON     M1E 4X6  43.765266   \n\n   longitude  stars  review_count  is_open  \\\n0 -79.529108    3.0            16        1   \n1 -79.381308    4.0             9        1   \n2 -79.293008    3.5             7        1   \n3 -79.348773    4.0           116        1   \n4 -79.166977    1.5             3        1   \n\n                                          attributes  \\\n0  {'GoodForKids': 'True', 'ByAppointmentOnly': '...   \n1  {'RestaurantsPriceRange2': '3', 'BikeParking':...   \n2  {'RestaurantsPriceRange2': '2', 'ByAppointment...   \n3  {'RestaurantsTakeOut': 'True', 'Alcohol': \"u'b...   \n4                   {'WheelchairAccessible': 'True'}   \n\n                                          categories  \\\n0  Martial Arts, Gyms, Fitness & Instruction, Act...   \n1                     Shopping, Shoe Stores, Fashion   \n2  Cosmetics & Beauty Supply, Shopping, Beauty & ...   \n3                            Vietnamese, Restaurants   \n4  Event Planning & Services, Photo Booth Rentals...   \n\n                      parent  \\\n0                Active Life   \n1                   Shopping   \n2                   Shopping   \n3                Restaurants   \n4  Event Planning & Services   \n\n                                               hours  \n0  {'Monday': '5:30-23:0', 'Tuesday': '5:30-23:0'...  \n1  {'Monday': '10:0-21:0', 'Tuesday': '10:0-21:0'...  \n2                                                NaN  \n3  {'Monday': '11:0-22:0', 'Tuesday': '11:0-22:0'...  \n4                             {'Monday': '9:0-17:0'}  ",
      "text/html": "<div>\n<style scoped>\n    .dataframe tbody tr th:only-of-type {\n        vertical-align: middle;\n    }\n\n    .dataframe tbody tr th {\n        vertical-align: top;\n    }\n\n    .dataframe thead th {\n        text-align: right;\n    }\n</style>\n<table border=\"1\" class=\"dataframe\">\n  <thead>\n    <tr style=\"text-align: right;\">\n      <th></th>\n      <th>business_id</th>\n      <th>name</th>\n      <th>address</th>\n      <th>city</th>\n      <th>state</th>\n      <th>postal_code</th>\n      <th>latitude</th>\n      <th>longitude</th>\n      <th>stars</th>\n      <th>review_count</th>\n      <th>is_open</th>\n      <th>attributes</th>\n      <th>categories</th>\n      <th>parent</th>\n      <th>hours</th>\n    </tr>\n  </thead>\n  <tbody>\n    <tr>\n      <th>0</th>\n      <td>EosRKXIGeSWFYWwpkbhNnA</td>\n      <td>Xtreme Couture</td>\n      <td>700 Kipling Avenue Etobicoke</td>\n      <td>Toronto</td>\n      <td>ON</td>\n      <td>M8Z 5G3</td>\n      <td>43.624539</td>\n      <td>-79.529108</td>\n      <td>3.0</td>\n      <td>16</td>\n      <td>1</td>\n      <td>{'GoodForKids': 'True', 'ByAppointmentOnly': '...</td>\n      <td>Martial Arts, Gyms, Fitness &amp; Instruction, Act...</td>\n      <td>Active Life</td>\n      <td>{'Monday': '5:30-23:0', 'Tuesday': '5:30-23:0'...</td>\n    </tr>\n    <tr>\n      <th>1</th>\n      <td>1wWneWD_E1pBIyVpdHMaQg</td>\n      <td>Air Jordan Store</td>\n      <td>306 Yonge Street</td>\n      <td>Toronto</td>\n      <td>ON</td>\n      <td>M5B 1R4</td>\n      <td>43.656542</td>\n      <td>-79.381308</td>\n      <td>4.0</td>\n      <td>9</td>\n      <td>1</td>\n      <td>{'RestaurantsPriceRange2': '3', 'BikeParking':...</td>\n      <td>Shopping, Shoe Stores, Fashion</td>\n      <td>Shopping</td>\n      <td>{'Monday': '10:0-21:0', 'Tuesday': '10:0-21:0'...</td>\n    </tr>\n    <tr>\n      <th>2</th>\n      <td>9JCjKd6eFXsAMVwouTh_4Q</td>\n      <td>Bath and Body Works</td>\n      <td>1900 Eglintion Ave E</td>\n      <td>Toronto</td>\n      <td>ON</td>\n      <td>M1L 2L9</td>\n      <td>43.727189</td>\n      <td>-79.293008</td>\n      <td>3.5</td>\n      <td>7</td>\n      <td>1</td>\n      <td>{'RestaurantsPriceRange2': '2', 'ByAppointment...</td>\n      <td>Cosmetics &amp; Beauty Supply, Shopping, Beauty &amp; ...</td>\n      <td>Shopping</td>\n      <td>NaN</td>\n    </tr>\n    <tr>\n      <th>3</th>\n      <td>0QjROMVW9ACKjhSEfHqNCQ</td>\n      <td>Mi Mi Restaurant</td>\n      <td>688 Gerrard Street E</td>\n      <td>Toronto</td>\n      <td>ON</td>\n      <td>M4M 1Y3</td>\n      <td>43.666376</td>\n      <td>-79.348773</td>\n      <td>4.0</td>\n      <td>116</td>\n      <td>1</td>\n      <td>{'RestaurantsTakeOut': 'True', 'Alcohol': \"u'b...</td>\n      <td>Vietnamese, Restaurants</td>\n      <td>Restaurants</td>\n      <td>{'Monday': '11:0-22:0', 'Tuesday': '11:0-22:0'...</td>\n    </tr>\n    <tr>\n      <th>4</th>\n      <td>OT-8IUWo_2M-rHddjzz_Cg</td>\n      <td>Equipment Sales and Long Term Rentals - Redlin...</td>\n      <td>510 Coronation Dr. Unit #18, Unit 18</td>\n      <td>Toronto</td>\n      <td>ON</td>\n      <td>M1E 4X6</td>\n      <td>43.765266</td>\n      <td>-79.166977</td>\n      <td>1.5</td>\n      <td>3</td>\n      <td>1</td>\n      <td>{'WheelchairAccessible': 'True'}</td>\n      <td>Event Planning &amp; Services, Photo Booth Rentals...</td>\n      <td>Event Planning &amp; Services</td>\n      <td>{'Monday': '9:0-17:0'}</td>\n    </tr>\n  </tbody>\n</table>\n</div>"
     },
     "metadata": {},
     "execution_count": 13
    }
   ],
   "source": [
    "# Read Yelp's category CSV dataset using Pandas\n",
    "yelp_toronto_path = \"static/assets/data/toronto_data.csv\"\n",
    "yelp_toronto = pd.read_csv(yelp_toronto_path)\n",
    "yelp_toronto.head()"
   ]
  },
  {
   "cell_type": "code",
   "execution_count": 14,
   "metadata": {},
   "outputs": [],
   "source": [
    "# Convert/Save the DataFrame of Yelp Toronto businessess to a new JSON records file\n",
    "orientation = \"records\"\n",
    "yelp_toronto.to_json(f\"static/assets/data/yelp_toronto_business_dataset_{orientation}.json\", orient=orientation)"
   ]
  },
  {
   "cell_type": "code",
   "execution_count": 15,
   "metadata": {},
   "outputs": [],
   "source": [
    "# Read Yelp's Tips JSON dataset using Pandas\n",
    "yelp_tips_data_path = \"static/assets/data/yelp_academic_dataset_tip.json\"\n",
    "yelp_tips_data = pd.read_json(yelp_tips_data_path, lines=True)"
   ]
  },
  {
   "cell_type": "code",
   "execution_count": 16,
   "metadata": {},
   "outputs": [
    {
     "output_type": "stream",
     "name": "stdout",
     "text": "(1320761, 5)\n"
    },
    {
     "output_type": "execute_result",
     "data": {
      "text/plain": "                  user_id             business_id  \\\n0  hf27xTME3EiCp6NL6VtWZQ  UYX5zL_Xj9WEc_Wp-FrqHw   \n1  uEvusDwoSymbJJ0auR3muQ  Ch3HkwQYv1YKw_FO06vBWA   \n2  AY-laIws3S7YXNl_f_D6rQ  rDoT-MgxGRiYqCmi0bG10g   \n3  Ue_7yUlkEbX4AhnYdUfL7g  OHXnDV01gLokiX1ELaQufA   \n4  LltbT_fUMqZ-ZJP-vJ84IQ  GMrwDXRlAZU2zj5nH6l4vQ   \n\n                                                text                date  \\\n0                               Here for a quick mtg 2013-11-26 18:20:08   \n1                      Cucumber strawberry refresher 2014-06-15 22:26:45   \n2                   Very nice good service good food 2016-07-18 22:03:42   \n3         It's a small place. The staff is friendly. 2014-06-06 01:10:34   \n4  8 sandwiches, $24 total...what a bargain!!! An... 2011-04-08 18:12:01   \n\n   compliment_count  \n0                 0  \n1                 0  \n2                 0  \n3                 0  \n4                 0  ",
      "text/html": "<div>\n<style scoped>\n    .dataframe tbody tr th:only-of-type {\n        vertical-align: middle;\n    }\n\n    .dataframe tbody tr th {\n        vertical-align: top;\n    }\n\n    .dataframe thead th {\n        text-align: right;\n    }\n</style>\n<table border=\"1\" class=\"dataframe\">\n  <thead>\n    <tr style=\"text-align: right;\">\n      <th></th>\n      <th>user_id</th>\n      <th>business_id</th>\n      <th>text</th>\n      <th>date</th>\n      <th>compliment_count</th>\n    </tr>\n  </thead>\n  <tbody>\n    <tr>\n      <th>0</th>\n      <td>hf27xTME3EiCp6NL6VtWZQ</td>\n      <td>UYX5zL_Xj9WEc_Wp-FrqHw</td>\n      <td>Here for a quick mtg</td>\n      <td>2013-11-26 18:20:08</td>\n      <td>0</td>\n    </tr>\n    <tr>\n      <th>1</th>\n      <td>uEvusDwoSymbJJ0auR3muQ</td>\n      <td>Ch3HkwQYv1YKw_FO06vBWA</td>\n      <td>Cucumber strawberry refresher</td>\n      <td>2014-06-15 22:26:45</td>\n      <td>0</td>\n    </tr>\n    <tr>\n      <th>2</th>\n      <td>AY-laIws3S7YXNl_f_D6rQ</td>\n      <td>rDoT-MgxGRiYqCmi0bG10g</td>\n      <td>Very nice good service good food</td>\n      <td>2016-07-18 22:03:42</td>\n      <td>0</td>\n    </tr>\n    <tr>\n      <th>3</th>\n      <td>Ue_7yUlkEbX4AhnYdUfL7g</td>\n      <td>OHXnDV01gLokiX1ELaQufA</td>\n      <td>It's a small place. The staff is friendly.</td>\n      <td>2014-06-06 01:10:34</td>\n      <td>0</td>\n    </tr>\n    <tr>\n      <th>4</th>\n      <td>LltbT_fUMqZ-ZJP-vJ84IQ</td>\n      <td>GMrwDXRlAZU2zj5nH6l4vQ</td>\n      <td>8 sandwiches, $24 total...what a bargain!!! An...</td>\n      <td>2011-04-08 18:12:01</td>\n      <td>0</td>\n    </tr>\n  </tbody>\n</table>\n</div>"
     },
     "metadata": {},
     "execution_count": 16
    }
   ],
   "source": [
    "# Verify tips data\n",
    "print(yelp_tips_data.shape)\n",
    "yelp_tips_data.head()"
   ]
  },
  {
   "cell_type": "code",
   "execution_count": 17,
   "metadata": {},
   "outputs": [
    {
     "output_type": "execute_result",
     "data": {
      "text/plain": "0     1302089\n1       16914\n2        1448\n3         228\n4          50\n5          16\n6           8\n7           3\n15          1\n12          1\n11          1\n9           1\n8           1\nName: compliment_count, dtype: int64"
     },
     "metadata": {},
     "execution_count": 17
    }
   ],
   "source": [
    "# Verify user compliment counts in the tips dataset\n",
    "yelp_tips_data.compliment_count.value_counts()"
   ]
  },
  {
   "cell_type": "code",
   "execution_count": 18,
   "metadata": {},
   "outputs": [
    {
     "output_type": "execute_result",
     "data": {
      "text/plain": "              business_id                 name                       address  \\\n0  EosRKXIGeSWFYWwpkbhNnA       Xtreme Couture  700 Kipling Avenue Etobicoke   \n1  1wWneWD_E1pBIyVpdHMaQg     Air Jordan Store              306 Yonge Street   \n2  9JCjKd6eFXsAMVwouTh_4Q  Bath and Body Works          1900 Eglintion Ave E   \n3  9JCjKd6eFXsAMVwouTh_4Q  Bath and Body Works          1900 Eglintion Ave E   \n4  0QjROMVW9ACKjhSEfHqNCQ     Mi Mi Restaurant          688 Gerrard Street E   \n\n      city state postal_code   latitude  longitude  stars  review_count  \\\n0  Toronto    ON     M8Z 5G3  43.624539 -79.529108    3.0            16   \n1  Toronto    ON     M5B 1R4  43.656542 -79.381308    4.0             9   \n2  Toronto    ON     M1L 2L9  43.727189 -79.293008    3.5             7   \n3  Toronto    ON     M1L 2L9  43.727189 -79.293008    3.5             7   \n4  Toronto    ON     M4M 1Y3  43.666376 -79.348773    4.0           116   \n\n   is_open                                         attributes  \\\n0        1  {'GoodForKids': 'True', 'ByAppointmentOnly': '...   \n1        1  {'RestaurantsPriceRange2': '3', 'BikeParking':...   \n2        1  {'RestaurantsPriceRange2': '2', 'ByAppointment...   \n3        1  {'RestaurantsPriceRange2': '2', 'ByAppointment...   \n4        1  {'RestaurantsTakeOut': 'True', 'Alcohol': \"u'b...   \n\n                                          categories       parent  \\\n0  Martial Arts, Gyms, Fitness & Instruction, Act...  Active Life   \n1                     Shopping, Shoe Stores, Fashion     Shopping   \n2  Cosmetics & Beauty Supply, Shopping, Beauty & ...     Shopping   \n3  Cosmetics & Beauty Supply, Shopping, Beauty & ...     Shopping   \n4                            Vietnamese, Restaurants  Restaurants   \n\n                                               hours                 user_id  \\\n0  {'Monday': '5:30-23:0', 'Tuesday': '5:30-23:0'...  WeVkkF5L39888IPPlRhNpg   \n1  {'Monday': '10:0-21:0', 'Tuesday': '10:0-21:0'...  rGd8YUtvhSdMm8-9cMdQ4Q   \n2                                                NaN  pn_flI3EBNugBEYFp9okxQ   \n3                                                NaN  eluOwBo91IiRcdfy4My_CQ   \n4  {'Monday': '11:0-22:0', 'Tuesday': '11:0-22:0'...  EUicxwHSRHFyJaO6gqbPGA   \n\n                                                text                date  \\\n0  Monitor your bank accounts regularly. They com... 2016-06-02 14:38:44   \n1     Only one in Canada!  Customize your purchases! 2017-06-02 00:23:05   \n2  Stock up when they have their buy 3 get 3 free... 2017-10-25 22:01:44   \n3             Giant semi annual sale until Jan 17!!! 2015-01-10 22:40:07   \n4                     A new adventure for J &I today 2011-07-22 17:00:11   \n\n   compliment_count  \n0                 1  \n1                 0  \n2                 0  \n3                 0  \n4                 0  ",
      "text/html": "<div>\n<style scoped>\n    .dataframe tbody tr th:only-of-type {\n        vertical-align: middle;\n    }\n\n    .dataframe tbody tr th {\n        vertical-align: top;\n    }\n\n    .dataframe thead th {\n        text-align: right;\n    }\n</style>\n<table border=\"1\" class=\"dataframe\">\n  <thead>\n    <tr style=\"text-align: right;\">\n      <th></th>\n      <th>business_id</th>\n      <th>name</th>\n      <th>address</th>\n      <th>city</th>\n      <th>state</th>\n      <th>postal_code</th>\n      <th>latitude</th>\n      <th>longitude</th>\n      <th>stars</th>\n      <th>review_count</th>\n      <th>is_open</th>\n      <th>attributes</th>\n      <th>categories</th>\n      <th>parent</th>\n      <th>hours</th>\n      <th>user_id</th>\n      <th>text</th>\n      <th>date</th>\n      <th>compliment_count</th>\n    </tr>\n  </thead>\n  <tbody>\n    <tr>\n      <th>0</th>\n      <td>EosRKXIGeSWFYWwpkbhNnA</td>\n      <td>Xtreme Couture</td>\n      <td>700 Kipling Avenue Etobicoke</td>\n      <td>Toronto</td>\n      <td>ON</td>\n      <td>M8Z 5G3</td>\n      <td>43.624539</td>\n      <td>-79.529108</td>\n      <td>3.0</td>\n      <td>16</td>\n      <td>1</td>\n      <td>{'GoodForKids': 'True', 'ByAppointmentOnly': '...</td>\n      <td>Martial Arts, Gyms, Fitness &amp; Instruction, Act...</td>\n      <td>Active Life</td>\n      <td>{'Monday': '5:30-23:0', 'Tuesday': '5:30-23:0'...</td>\n      <td>WeVkkF5L39888IPPlRhNpg</td>\n      <td>Monitor your bank accounts regularly. They com...</td>\n      <td>2016-06-02 14:38:44</td>\n      <td>1</td>\n    </tr>\n    <tr>\n      <th>1</th>\n      <td>1wWneWD_E1pBIyVpdHMaQg</td>\n      <td>Air Jordan Store</td>\n      <td>306 Yonge Street</td>\n      <td>Toronto</td>\n      <td>ON</td>\n      <td>M5B 1R4</td>\n      <td>43.656542</td>\n      <td>-79.381308</td>\n      <td>4.0</td>\n      <td>9</td>\n      <td>1</td>\n      <td>{'RestaurantsPriceRange2': '3', 'BikeParking':...</td>\n      <td>Shopping, Shoe Stores, Fashion</td>\n      <td>Shopping</td>\n      <td>{'Monday': '10:0-21:0', 'Tuesday': '10:0-21:0'...</td>\n      <td>rGd8YUtvhSdMm8-9cMdQ4Q</td>\n      <td>Only one in Canada!  Customize your purchases!</td>\n      <td>2017-06-02 00:23:05</td>\n      <td>0</td>\n    </tr>\n    <tr>\n      <th>2</th>\n      <td>9JCjKd6eFXsAMVwouTh_4Q</td>\n      <td>Bath and Body Works</td>\n      <td>1900 Eglintion Ave E</td>\n      <td>Toronto</td>\n      <td>ON</td>\n      <td>M1L 2L9</td>\n      <td>43.727189</td>\n      <td>-79.293008</td>\n      <td>3.5</td>\n      <td>7</td>\n      <td>1</td>\n      <td>{'RestaurantsPriceRange2': '2', 'ByAppointment...</td>\n      <td>Cosmetics &amp; Beauty Supply, Shopping, Beauty &amp; ...</td>\n      <td>Shopping</td>\n      <td>NaN</td>\n      <td>pn_flI3EBNugBEYFp9okxQ</td>\n      <td>Stock up when they have their buy 3 get 3 free...</td>\n      <td>2017-10-25 22:01:44</td>\n      <td>0</td>\n    </tr>\n    <tr>\n      <th>3</th>\n      <td>9JCjKd6eFXsAMVwouTh_4Q</td>\n      <td>Bath and Body Works</td>\n      <td>1900 Eglintion Ave E</td>\n      <td>Toronto</td>\n      <td>ON</td>\n      <td>M1L 2L9</td>\n      <td>43.727189</td>\n      <td>-79.293008</td>\n      <td>3.5</td>\n      <td>7</td>\n      <td>1</td>\n      <td>{'RestaurantsPriceRange2': '2', 'ByAppointment...</td>\n      <td>Cosmetics &amp; Beauty Supply, Shopping, Beauty &amp; ...</td>\n      <td>Shopping</td>\n      <td>NaN</td>\n      <td>eluOwBo91IiRcdfy4My_CQ</td>\n      <td>Giant semi annual sale until Jan 17!!!</td>\n      <td>2015-01-10 22:40:07</td>\n      <td>0</td>\n    </tr>\n    <tr>\n      <th>4</th>\n      <td>0QjROMVW9ACKjhSEfHqNCQ</td>\n      <td>Mi Mi Restaurant</td>\n      <td>688 Gerrard Street E</td>\n      <td>Toronto</td>\n      <td>ON</td>\n      <td>M4M 1Y3</td>\n      <td>43.666376</td>\n      <td>-79.348773</td>\n      <td>4.0</td>\n      <td>116</td>\n      <td>1</td>\n      <td>{'RestaurantsTakeOut': 'True', 'Alcohol': \"u'b...</td>\n      <td>Vietnamese, Restaurants</td>\n      <td>Restaurants</td>\n      <td>{'Monday': '11:0-22:0', 'Tuesday': '11:0-22:0'...</td>\n      <td>EUicxwHSRHFyJaO6gqbPGA</td>\n      <td>A new adventure for J &amp;I today</td>\n      <td>2011-07-22 17:00:11</td>\n      <td>0</td>\n    </tr>\n  </tbody>\n</table>\n</div>"
     },
     "metadata": {},
     "execution_count": 18
    }
   ],
   "source": [
    "# Merge of business and tips dataframes for Toronto\n",
    "tips_business_merge = pd.merge(yelp_toronto, yelp_tips_data, how ='inner', on ='business_id')\n",
    "tips_business_merge.head()"
   ]
  },
  {
   "cell_type": "code",
   "execution_count": 19,
   "metadata": {},
   "outputs": [
    {
     "output_type": "execute_result",
     "data": {
      "text/plain": "                  business_id postal_code       parent  \\\n0      EosRKXIGeSWFYWwpkbhNnA     M8Z 5G3  Active Life   \n1      1wWneWD_E1pBIyVpdHMaQg     M5B 1R4     Shopping   \n2      9JCjKd6eFXsAMVwouTh_4Q     M1L 2L9     Shopping   \n3      9JCjKd6eFXsAMVwouTh_4Q     M1L 2L9     Shopping   \n4      0QjROMVW9ACKjhSEfHqNCQ     M4M 1Y3  Restaurants   \n...                       ...         ...          ...   \n58815  BtTCTHwoIfr3fBQjaOkpIw     M5E 1B8         Food   \n58816  BtTCTHwoIfr3fBQjaOkpIw     M5E 1B8         Food   \n58817  BtTCTHwoIfr3fBQjaOkpIw     M5E 1B8         Food   \n58818  BtTCTHwoIfr3fBQjaOkpIw     M5E 1B8         Food   \n58819  n2BKYb8aw4AhRKLkdUjQRg     M5T 1P9  Restaurants   \n\n                      user_id  \\\n0      WeVkkF5L39888IPPlRhNpg   \n1      rGd8YUtvhSdMm8-9cMdQ4Q   \n2      pn_flI3EBNugBEYFp9okxQ   \n3      eluOwBo91IiRcdfy4My_CQ   \n4      EUicxwHSRHFyJaO6gqbPGA   \n...                       ...   \n58815  OKTF6Jj7SkHG1hLxT1KeRw   \n58816  p7Yi0vdwzWpW_wCSRmoU9w   \n58817  IIVTHna4vd7EOJJTKaS5uw   \n58818  wKX7dU0pcF0nQ9m2V26M-g   \n58819  orBnbkHheyQf2hWKzH8FyA   \n\n                                                    text                date  \\\n0      Monitor your bank accounts regularly. They com... 2016-06-02 14:38:44   \n1         Only one in Canada!  Customize your purchases! 2017-06-02 00:23:05   \n2      Stock up when they have their buy 3 get 3 free... 2017-10-25 22:01:44   \n3                 Giant semi annual sale until Jan 17!!! 2015-01-10 22:40:07   \n4                         A new adventure for J &I today 2011-07-22 17:00:11   \n...                                                  ...                 ...   \n58815  They have a clover machine here. Really brings... 2014-07-19 15:25:42   \n58816                        Power doors do not operate. 2016-08-20 19:14:25   \n58817  Soy green tea latte classic has a milder conco... 2013-06-15 23:55:06   \n58818                              Nice & friendly staff 2014-04-20 15:39:04   \n58819  Not so quick pita. This place can't handle mor... 2011-11-06 19:50:41   \n\n       compliment_count  \n0                     1  \n1                     0  \n2                     0  \n3                     0  \n4                     0  \n...                 ...  \n58815                 0  \n58816                 0  \n58817                 0  \n58818                 0  \n58819                 1  \n\n[58820 rows x 7 columns]",
      "text/html": "<div>\n<style scoped>\n    .dataframe tbody tr th:only-of-type {\n        vertical-align: middle;\n    }\n\n    .dataframe tbody tr th {\n        vertical-align: top;\n    }\n\n    .dataframe thead th {\n        text-align: right;\n    }\n</style>\n<table border=\"1\" class=\"dataframe\">\n  <thead>\n    <tr style=\"text-align: right;\">\n      <th></th>\n      <th>business_id</th>\n      <th>postal_code</th>\n      <th>parent</th>\n      <th>user_id</th>\n      <th>text</th>\n      <th>date</th>\n      <th>compliment_count</th>\n    </tr>\n  </thead>\n  <tbody>\n    <tr>\n      <th>0</th>\n      <td>EosRKXIGeSWFYWwpkbhNnA</td>\n      <td>M8Z 5G3</td>\n      <td>Active Life</td>\n      <td>WeVkkF5L39888IPPlRhNpg</td>\n      <td>Monitor your bank accounts regularly. They com...</td>\n      <td>2016-06-02 14:38:44</td>\n      <td>1</td>\n    </tr>\n    <tr>\n      <th>1</th>\n      <td>1wWneWD_E1pBIyVpdHMaQg</td>\n      <td>M5B 1R4</td>\n      <td>Shopping</td>\n      <td>rGd8YUtvhSdMm8-9cMdQ4Q</td>\n      <td>Only one in Canada!  Customize your purchases!</td>\n      <td>2017-06-02 00:23:05</td>\n      <td>0</td>\n    </tr>\n    <tr>\n      <th>2</th>\n      <td>9JCjKd6eFXsAMVwouTh_4Q</td>\n      <td>M1L 2L9</td>\n      <td>Shopping</td>\n      <td>pn_flI3EBNugBEYFp9okxQ</td>\n      <td>Stock up when they have their buy 3 get 3 free...</td>\n      <td>2017-10-25 22:01:44</td>\n      <td>0</td>\n    </tr>\n    <tr>\n      <th>3</th>\n      <td>9JCjKd6eFXsAMVwouTh_4Q</td>\n      <td>M1L 2L9</td>\n      <td>Shopping</td>\n      <td>eluOwBo91IiRcdfy4My_CQ</td>\n      <td>Giant semi annual sale until Jan 17!!!</td>\n      <td>2015-01-10 22:40:07</td>\n      <td>0</td>\n    </tr>\n    <tr>\n      <th>4</th>\n      <td>0QjROMVW9ACKjhSEfHqNCQ</td>\n      <td>M4M 1Y3</td>\n      <td>Restaurants</td>\n      <td>EUicxwHSRHFyJaO6gqbPGA</td>\n      <td>A new adventure for J &amp;I today</td>\n      <td>2011-07-22 17:00:11</td>\n      <td>0</td>\n    </tr>\n    <tr>\n      <th>...</th>\n      <td>...</td>\n      <td>...</td>\n      <td>...</td>\n      <td>...</td>\n      <td>...</td>\n      <td>...</td>\n      <td>...</td>\n    </tr>\n    <tr>\n      <th>58815</th>\n      <td>BtTCTHwoIfr3fBQjaOkpIw</td>\n      <td>M5E 1B8</td>\n      <td>Food</td>\n      <td>OKTF6Jj7SkHG1hLxT1KeRw</td>\n      <td>They have a clover machine here. Really brings...</td>\n      <td>2014-07-19 15:25:42</td>\n      <td>0</td>\n    </tr>\n    <tr>\n      <th>58816</th>\n      <td>BtTCTHwoIfr3fBQjaOkpIw</td>\n      <td>M5E 1B8</td>\n      <td>Food</td>\n      <td>p7Yi0vdwzWpW_wCSRmoU9w</td>\n      <td>Power doors do not operate.</td>\n      <td>2016-08-20 19:14:25</td>\n      <td>0</td>\n    </tr>\n    <tr>\n      <th>58817</th>\n      <td>BtTCTHwoIfr3fBQjaOkpIw</td>\n      <td>M5E 1B8</td>\n      <td>Food</td>\n      <td>IIVTHna4vd7EOJJTKaS5uw</td>\n      <td>Soy green tea latte classic has a milder conco...</td>\n      <td>2013-06-15 23:55:06</td>\n      <td>0</td>\n    </tr>\n    <tr>\n      <th>58818</th>\n      <td>BtTCTHwoIfr3fBQjaOkpIw</td>\n      <td>M5E 1B8</td>\n      <td>Food</td>\n      <td>wKX7dU0pcF0nQ9m2V26M-g</td>\n      <td>Nice &amp; friendly staff</td>\n      <td>2014-04-20 15:39:04</td>\n      <td>0</td>\n    </tr>\n    <tr>\n      <th>58819</th>\n      <td>n2BKYb8aw4AhRKLkdUjQRg</td>\n      <td>M5T 1P9</td>\n      <td>Restaurants</td>\n      <td>orBnbkHheyQf2hWKzH8FyA</td>\n      <td>Not so quick pita. This place can't handle mor...</td>\n      <td>2011-11-06 19:50:41</td>\n      <td>1</td>\n    </tr>\n  </tbody>\n</table>\n<p>58820 rows × 7 columns</p>\n</div>"
     },
     "metadata": {},
     "execution_count": 19
    }
   ],
   "source": [
    "tips_business_merge\n",
    "tips_business_merge_min = tips_business_merge.drop([\"name\",\"address\",\"city\",\"state\",\"latitude\",\"longitude\",\"stars\",\"review_count\",\"is_open\",\"attributes\",\"categories\",\"hours\"], axis=1)\n",
    "tips_business_merge_min"
   ]
  },
  {
   "cell_type": "code",
   "execution_count": 20,
   "metadata": {},
   "outputs": [],
   "source": [
    "# Convert/Save the DataFrame of Yelp tips to a new JSON records file\n",
    "orientation = \"records\"\n",
    "tips_business_merge_min.to_json(f\"static/assets/data/yelp_toronto_tips_business_dataset_{orientation}.json\", orient=orientation)"
   ]
  },
  {
   "cell_type": "code",
   "execution_count": 21,
   "metadata": {},
   "outputs": [],
   "source": [
    "# Read Yelp's checkin JSON dataset using Pandas\n",
    "yelp_checkin_data_path = \"static/assets/data/yelp_academic_dataset_checkin.json\"\n",
    "yelp_checkin_data = pd.read_json(yelp_checkin_data_path, lines=True)"
   ]
  },
  {
   "cell_type": "code",
   "execution_count": 22,
   "metadata": {},
   "outputs": [
    {
     "output_type": "stream",
     "name": "stdout",
     "text": "(175187, 2)\n"
    },
    {
     "output_type": "execute_result",
     "data": {
      "text/plain": "              business_id                                               date\n0  --1UhMGODdWsrMastO9DZw  2016-04-26 19:49:16, 2016-08-30 18:36:57, 2016...\n1  --6MefnULPED_I942VcFNA  2011-06-04 18:22:23, 2011-07-23 23:51:33, 2012...\n2  --7zmmkVg-IMGaXbuVd0SQ  2014-12-29 19:25:50, 2015-01-17 01:49:14, 2015...\n3  --8LPVSo5i0Oo61X01sV9A                                2016-07-08 16:43:30\n4  --9QQLMTbFzLJ_oT-ON3Xw  2010-06-26 17:39:07, 2010-08-01 20:06:21, 2010...",
      "text/html": "<div>\n<style scoped>\n    .dataframe tbody tr th:only-of-type {\n        vertical-align: middle;\n    }\n\n    .dataframe tbody tr th {\n        vertical-align: top;\n    }\n\n    .dataframe thead th {\n        text-align: right;\n    }\n</style>\n<table border=\"1\" class=\"dataframe\">\n  <thead>\n    <tr style=\"text-align: right;\">\n      <th></th>\n      <th>business_id</th>\n      <th>date</th>\n    </tr>\n  </thead>\n  <tbody>\n    <tr>\n      <th>0</th>\n      <td>--1UhMGODdWsrMastO9DZw</td>\n      <td>2016-04-26 19:49:16, 2016-08-30 18:36:57, 2016...</td>\n    </tr>\n    <tr>\n      <th>1</th>\n      <td>--6MefnULPED_I942VcFNA</td>\n      <td>2011-06-04 18:22:23, 2011-07-23 23:51:33, 2012...</td>\n    </tr>\n    <tr>\n      <th>2</th>\n      <td>--7zmmkVg-IMGaXbuVd0SQ</td>\n      <td>2014-12-29 19:25:50, 2015-01-17 01:49:14, 2015...</td>\n    </tr>\n    <tr>\n      <th>3</th>\n      <td>--8LPVSo5i0Oo61X01sV9A</td>\n      <td>2016-07-08 16:43:30</td>\n    </tr>\n    <tr>\n      <th>4</th>\n      <td>--9QQLMTbFzLJ_oT-ON3Xw</td>\n      <td>2010-06-26 17:39:07, 2010-08-01 20:06:21, 2010...</td>\n    </tr>\n  </tbody>\n</table>\n</div>"
     },
     "metadata": {},
     "execution_count": 22
    }
   ],
   "source": [
    "# Verify checkin data\n",
    "print(yelp_checkin_data.shape)\n",
    "yelp_checkin_data.head()"
   ]
  },
  {
   "cell_type": "code",
   "execution_count": 23,
   "metadata": {},
   "outputs": [
    {
     "output_type": "execute_result",
     "data": {
      "text/plain": "              business_id                 name                       address  \\\n0  EosRKXIGeSWFYWwpkbhNnA       Xtreme Couture  700 Kipling Avenue Etobicoke   \n1  1wWneWD_E1pBIyVpdHMaQg     Air Jordan Store              306 Yonge Street   \n2  9JCjKd6eFXsAMVwouTh_4Q  Bath and Body Works          1900 Eglintion Ave E   \n3  0QjROMVW9ACKjhSEfHqNCQ     Mi Mi Restaurant          688 Gerrard Street E   \n4  umDBj-8WUNkNBODa6P0G-Q       Natural Scents         143 Sheppard Avenue W   \n\n      city state postal_code   latitude  longitude  stars  review_count  \\\n0  Toronto    ON     M8Z 5G3  43.624539 -79.529108    3.0            16   \n1  Toronto    ON     M5B 1R4  43.656542 -79.381308    4.0             9   \n2  Toronto    ON     M1L 2L9  43.727189 -79.293008    3.5             7   \n3  Toronto    ON     M4M 1Y3  43.666376 -79.348773    4.0           116   \n4  Toronto    ON     M2N 1M7  43.759675 -79.418122    4.5             8   \n\n   is_open                                         attributes  \\\n0        1  {'GoodForKids': 'True', 'ByAppointmentOnly': '...   \n1        1  {'RestaurantsPriceRange2': '3', 'BikeParking':...   \n2        1  {'RestaurantsPriceRange2': '2', 'ByAppointment...   \n3        1  {'RestaurantsTakeOut': 'True', 'Alcohol': \"u'b...   \n4        1  {'BikeParking': 'True', 'BusinessParking': \"{'...   \n\n                                          categories            parent  \\\n0  Martial Arts, Gyms, Fitness & Instruction, Act...       Active Life   \n1                     Shopping, Shoe Stores, Fashion          Shopping   \n2  Cosmetics & Beauty Supply, Shopping, Beauty & ...          Shopping   \n3                            Vietnamese, Restaurants       Restaurants   \n4  Health & Medical, Massage Therapy, Eyelash Ser...  Health & Medical   \n\n                                               hours  \\\n0  {'Monday': '5:30-23:0', 'Tuesday': '5:30-23:0'...   \n1  {'Monday': '10:0-21:0', 'Tuesday': '10:0-21:0'...   \n2                                                NaN   \n3  {'Monday': '11:0-22:0', 'Tuesday': '11:0-22:0'...   \n4  {'Monday': '0:0-0:0', 'Tuesday': '10:0-20:0', ...   \n\n                                                date  \n0  2012-06-12 19:19:12, 2013-02-11 14:43:02, 2013...  \n1  2017-05-28 23:04:12, 2017-06-02 00:22:09, 2017...  \n2  2011-11-13 18:30:52, 2011-12-27 22:54:14, 2012...  \n3  2010-03-16 18:05:19, 2010-06-06 16:53:37, 2010...  \n4  2018-12-21 14:22:13, 2019-02-16 18:07:16, 2019...  ",
      "text/html": "<div>\n<style scoped>\n    .dataframe tbody tr th:only-of-type {\n        vertical-align: middle;\n    }\n\n    .dataframe tbody tr th {\n        vertical-align: top;\n    }\n\n    .dataframe thead th {\n        text-align: right;\n    }\n</style>\n<table border=\"1\" class=\"dataframe\">\n  <thead>\n    <tr style=\"text-align: right;\">\n      <th></th>\n      <th>business_id</th>\n      <th>name</th>\n      <th>address</th>\n      <th>city</th>\n      <th>state</th>\n      <th>postal_code</th>\n      <th>latitude</th>\n      <th>longitude</th>\n      <th>stars</th>\n      <th>review_count</th>\n      <th>is_open</th>\n      <th>attributes</th>\n      <th>categories</th>\n      <th>parent</th>\n      <th>hours</th>\n      <th>date</th>\n    </tr>\n  </thead>\n  <tbody>\n    <tr>\n      <th>0</th>\n      <td>EosRKXIGeSWFYWwpkbhNnA</td>\n      <td>Xtreme Couture</td>\n      <td>700 Kipling Avenue Etobicoke</td>\n      <td>Toronto</td>\n      <td>ON</td>\n      <td>M8Z 5G3</td>\n      <td>43.624539</td>\n      <td>-79.529108</td>\n      <td>3.0</td>\n      <td>16</td>\n      <td>1</td>\n      <td>{'GoodForKids': 'True', 'ByAppointmentOnly': '...</td>\n      <td>Martial Arts, Gyms, Fitness &amp; Instruction, Act...</td>\n      <td>Active Life</td>\n      <td>{'Monday': '5:30-23:0', 'Tuesday': '5:30-23:0'...</td>\n      <td>2012-06-12 19:19:12, 2013-02-11 14:43:02, 2013...</td>\n    </tr>\n    <tr>\n      <th>1</th>\n      <td>1wWneWD_E1pBIyVpdHMaQg</td>\n      <td>Air Jordan Store</td>\n      <td>306 Yonge Street</td>\n      <td>Toronto</td>\n      <td>ON</td>\n      <td>M5B 1R4</td>\n      <td>43.656542</td>\n      <td>-79.381308</td>\n      <td>4.0</td>\n      <td>9</td>\n      <td>1</td>\n      <td>{'RestaurantsPriceRange2': '3', 'BikeParking':...</td>\n      <td>Shopping, Shoe Stores, Fashion</td>\n      <td>Shopping</td>\n      <td>{'Monday': '10:0-21:0', 'Tuesday': '10:0-21:0'...</td>\n      <td>2017-05-28 23:04:12, 2017-06-02 00:22:09, 2017...</td>\n    </tr>\n    <tr>\n      <th>2</th>\n      <td>9JCjKd6eFXsAMVwouTh_4Q</td>\n      <td>Bath and Body Works</td>\n      <td>1900 Eglintion Ave E</td>\n      <td>Toronto</td>\n      <td>ON</td>\n      <td>M1L 2L9</td>\n      <td>43.727189</td>\n      <td>-79.293008</td>\n      <td>3.5</td>\n      <td>7</td>\n      <td>1</td>\n      <td>{'RestaurantsPriceRange2': '2', 'ByAppointment...</td>\n      <td>Cosmetics &amp; Beauty Supply, Shopping, Beauty &amp; ...</td>\n      <td>Shopping</td>\n      <td>NaN</td>\n      <td>2011-11-13 18:30:52, 2011-12-27 22:54:14, 2012...</td>\n    </tr>\n    <tr>\n      <th>3</th>\n      <td>0QjROMVW9ACKjhSEfHqNCQ</td>\n      <td>Mi Mi Restaurant</td>\n      <td>688 Gerrard Street E</td>\n      <td>Toronto</td>\n      <td>ON</td>\n      <td>M4M 1Y3</td>\n      <td>43.666376</td>\n      <td>-79.348773</td>\n      <td>4.0</td>\n      <td>116</td>\n      <td>1</td>\n      <td>{'RestaurantsTakeOut': 'True', 'Alcohol': \"u'b...</td>\n      <td>Vietnamese, Restaurants</td>\n      <td>Restaurants</td>\n      <td>{'Monday': '11:0-22:0', 'Tuesday': '11:0-22:0'...</td>\n      <td>2010-03-16 18:05:19, 2010-06-06 16:53:37, 2010...</td>\n    </tr>\n    <tr>\n      <th>4</th>\n      <td>umDBj-8WUNkNBODa6P0G-Q</td>\n      <td>Natural Scents</td>\n      <td>143 Sheppard Avenue W</td>\n      <td>Toronto</td>\n      <td>ON</td>\n      <td>M2N 1M7</td>\n      <td>43.759675</td>\n      <td>-79.418122</td>\n      <td>4.5</td>\n      <td>8</td>\n      <td>1</td>\n      <td>{'BikeParking': 'True', 'BusinessParking': \"{'...</td>\n      <td>Health &amp; Medical, Massage Therapy, Eyelash Ser...</td>\n      <td>Health &amp; Medical</td>\n      <td>{'Monday': '0:0-0:0', 'Tuesday': '10:0-20:0', ...</td>\n      <td>2018-12-21 14:22:13, 2019-02-16 18:07:16, 2019...</td>\n    </tr>\n  </tbody>\n</table>\n</div>"
     },
     "metadata": {},
     "execution_count": 23
    }
   ],
   "source": [
    "# Merge of business and checkin dataframes for Toronto\n",
    "checkins_business_merge = pd.merge(yelp_toronto, yelp_checkin_data, how ='inner', on ='business_id')\n",
    "checkins_business_merge.head()"
   ]
  },
  {
   "cell_type": "code",
   "execution_count": 24,
   "metadata": {},
   "outputs": [],
   "source": [
    "# Convert/Save the DataFrame of Yelp checkins to a new JSON records file\n",
    "orientation = \"records\"\n",
    "checkins_business_merge.to_json(f\"static/assets/data/yelp_toronto_checkin_business_dataset_{orientation}.json\", orient=orientation)"
   ]
  }
 ],
 "metadata": {
  "file_extension": ".py",
  "kernelspec": {
   "display_name": "Python 3.7.5 64-bit ('PythonData': conda)",
   "language": "python",
   "name": "python37564bitpythondatacondac30bd6fcf4694af7948ebff9c485f105"
  },
  "language_info": {
   "codemirror_mode": {
    "name": "ipython",
    "version": 3
   },
   "file_extension": ".py",
   "mimetype": "text/x-python",
   "name": "python",
   "nbconvert_exporter": "python",
   "pygments_lexer": "ipython3",
   "version": "3.7.5-final"
  },
  "mimetype": "text/x-python",
  "name": "python",
  "npconvert_exporter": "python",
  "pygments_lexer": "ipython3",
  "version": 3
 },
 "nbformat": 4,
 "nbformat_minor": 2
}