{
 "nbformat": 4,
 "nbformat_minor": 2,
 "metadata": {
  "language_info": {
   "name": "python",
   "codemirror_mode": {
    "name": "ipython",
    "version": 3
   },
   "version": "3.7.5-final"
  },
  "orig_nbformat": 2,
  "file_extension": ".py",
  "mimetype": "text/x-python",
  "name": "python",
  "npconvert_exporter": "python",
  "pygments_lexer": "ipython3",
  "version": 3,
  "kernelspec": {
   "name": "python37564bitpythondatacondac30bd6fcf4694af7948ebff9c485f105",
   "display_name": "Python 3.7.5 64-bit ('PythonData': conda)"
  }
 },
 "cells": [
  {
   "cell_type": "code",
   "execution_count": 31,
   "metadata": {},
   "outputs": [],
   "source": [
    "# Import Dependencies\n",
    "import pandas as pd"
   ]
  },
  {
   "cell_type": "code",
   "execution_count": 32,
   "metadata": {},
   "outputs": [],
   "source": [
    "# Read Yelp's Business JSON dataset using Pandas\n",
    "yelp_business_data_path = \"assets/data/yelp_academic_dataset_business.json\"\n",
    "yelp_business_data = pd.read_json(yelp_business_data_path, lines=True)"
   ]
  },
  {
   "cell_type": "code",
   "execution_count": 33,
   "metadata": {},
   "outputs": [
    {
     "output_type": "stream",
     "name": "stdout",
     "text": "(209393, 14)\n"
    },
    {
     "output_type": "execute_result",
     "data": {
      "text/plain": "              business_id                      name  \\\n0  f9NumwFMBDn751xgFiRbNA  The Range At Lake Norman   \n1  Yzvjg0SayhoZgCljUJRF9Q         Carlos Santo, NMD   \n2  XNoUzKckATkOD1hP6vghZg                   Felinus   \n3  6OAZjbxqM5ol29BuHsil3w      Nevada House of Hose   \n4  51M2Kk903DFYI6gnB5I6SQ   USE MY GUY SERVICES LLC   \n\n                     address             city state postal_code   latitude  \\\n0            10913 Bailey Rd        Cornelius    NC       28031  35.462724   \n1  8880 E Via Linda, Ste 107       Scottsdale    AZ       85258  33.569404   \n2      3554 Rue Notre-Dame O         Montreal    QC     H4C 1P4  45.479984   \n3             1015 Sharp Cir  North Las Vegas    NV       89030  36.219728   \n4         4827 E Downing Cir             Mesa    AZ       85205  33.428065   \n\n    longitude  stars  review_count  is_open  \\\n0  -80.852612    3.5            36        1   \n1 -111.890264    5.0             4        1   \n2  -73.580070    5.0             5        1   \n3 -115.127725    2.5             3        0   \n4 -111.726648    4.5            26        1   \n\n                                          attributes  \\\n0  {'BusinessAcceptsCreditCards': 'True', 'BikePa...   \n1  {'GoodForKids': 'True', 'ByAppointmentOnly': '...   \n2                                               None   \n3  {'BusinessAcceptsCreditCards': 'True', 'ByAppo...   \n4  {'BusinessAcceptsCreditCards': 'True', 'ByAppo...   \n\n                                          categories  \\\n0  Active Life, Gun/Rifle Ranges, Guns & Ammo, Sh...   \n1  Health & Medical, Fitness & Instruction, Yoga,...   \n2                   Pets, Pet Services, Pet Groomers   \n3  Hardware Stores, Home Services, Building Suppl...   \n4  Home Services, Plumbing, Electricians, Handyma...   \n\n                                               hours  \n0  {'Monday': '10:0-18:0', 'Tuesday': '11:0-20:0'...  \n1                                               None  \n2                                               None  \n3  {'Monday': '7:0-16:0', 'Tuesday': '7:0-16:0', ...  \n4  {'Monday': '0:0-0:0', 'Tuesday': '9:0-16:0', '...  ",
      "text/html": "<div>\n<style scoped>\n    .dataframe tbody tr th:only-of-type {\n        vertical-align: middle;\n    }\n\n    .dataframe tbody tr th {\n        vertical-align: top;\n    }\n\n    .dataframe thead th {\n        text-align: right;\n    }\n</style>\n<table border=\"1\" class=\"dataframe\">\n  <thead>\n    <tr style=\"text-align: right;\">\n      <th></th>\n      <th>business_id</th>\n      <th>name</th>\n      <th>address</th>\n      <th>city</th>\n      <th>state</th>\n      <th>postal_code</th>\n      <th>latitude</th>\n      <th>longitude</th>\n      <th>stars</th>\n      <th>review_count</th>\n      <th>is_open</th>\n      <th>attributes</th>\n      <th>categories</th>\n      <th>hours</th>\n    </tr>\n  </thead>\n  <tbody>\n    <tr>\n      <th>0</th>\n      <td>f9NumwFMBDn751xgFiRbNA</td>\n      <td>The Range At Lake Norman</td>\n      <td>10913 Bailey Rd</td>\n      <td>Cornelius</td>\n      <td>NC</td>\n      <td>28031</td>\n      <td>35.462724</td>\n      <td>-80.852612</td>\n      <td>3.5</td>\n      <td>36</td>\n      <td>1</td>\n      <td>{'BusinessAcceptsCreditCards': 'True', 'BikePa...</td>\n      <td>Active Life, Gun/Rifle Ranges, Guns &amp; Ammo, Sh...</td>\n      <td>{'Monday': '10:0-18:0', 'Tuesday': '11:0-20:0'...</td>\n    </tr>\n    <tr>\n      <th>1</th>\n      <td>Yzvjg0SayhoZgCljUJRF9Q</td>\n      <td>Carlos Santo, NMD</td>\n      <td>8880 E Via Linda, Ste 107</td>\n      <td>Scottsdale</td>\n      <td>AZ</td>\n      <td>85258</td>\n      <td>33.569404</td>\n      <td>-111.890264</td>\n      <td>5.0</td>\n      <td>4</td>\n      <td>1</td>\n      <td>{'GoodForKids': 'True', 'ByAppointmentOnly': '...</td>\n      <td>Health &amp; Medical, Fitness &amp; Instruction, Yoga,...</td>\n      <td>None</td>\n    </tr>\n    <tr>\n      <th>2</th>\n      <td>XNoUzKckATkOD1hP6vghZg</td>\n      <td>Felinus</td>\n      <td>3554 Rue Notre-Dame O</td>\n      <td>Montreal</td>\n      <td>QC</td>\n      <td>H4C 1P4</td>\n      <td>45.479984</td>\n      <td>-73.580070</td>\n      <td>5.0</td>\n      <td>5</td>\n      <td>1</td>\n      <td>None</td>\n      <td>Pets, Pet Services, Pet Groomers</td>\n      <td>None</td>\n    </tr>\n    <tr>\n      <th>3</th>\n      <td>6OAZjbxqM5ol29BuHsil3w</td>\n      <td>Nevada House of Hose</td>\n      <td>1015 Sharp Cir</td>\n      <td>North Las Vegas</td>\n      <td>NV</td>\n      <td>89030</td>\n      <td>36.219728</td>\n      <td>-115.127725</td>\n      <td>2.5</td>\n      <td>3</td>\n      <td>0</td>\n      <td>{'BusinessAcceptsCreditCards': 'True', 'ByAppo...</td>\n      <td>Hardware Stores, Home Services, Building Suppl...</td>\n      <td>{'Monday': '7:0-16:0', 'Tuesday': '7:0-16:0', ...</td>\n    </tr>\n    <tr>\n      <th>4</th>\n      <td>51M2Kk903DFYI6gnB5I6SQ</td>\n      <td>USE MY GUY SERVICES LLC</td>\n      <td>4827 E Downing Cir</td>\n      <td>Mesa</td>\n      <td>AZ</td>\n      <td>85205</td>\n      <td>33.428065</td>\n      <td>-111.726648</td>\n      <td>4.5</td>\n      <td>26</td>\n      <td>1</td>\n      <td>{'BusinessAcceptsCreditCards': 'True', 'ByAppo...</td>\n      <td>Home Services, Plumbing, Electricians, Handyma...</td>\n      <td>{'Monday': '0:0-0:0', 'Tuesday': '9:0-16:0', '...</td>\n    </tr>\n  </tbody>\n</table>\n</div>"
     },
     "metadata": {},
     "execution_count": 33
    }
   ],
   "source": [
    "# Verify business data\n",
    "print(yelp_business_data.shape)\n",
    "yelp_business_data.head()"
   ]
  },
  {
   "cell_type": "code",
   "execution_count": 34,
   "metadata": {},
   "outputs": [
    {
     "output_type": "execute_result",
     "data": {
      "text/plain": "1    168903\n0     40490\nName: is_open, dtype: int64"
     },
     "metadata": {},
     "execution_count": 34
    }
   ],
   "source": [
    "# Verify number of businesses in the dataset that are identified as open (\"1\") and closed (\"0\") for business\n",
    "yelp_business_data.is_open.value_counts()"
   ]
  },
  {
   "cell_type": "code",
   "execution_count": 35,
   "metadata": {},
   "outputs": [
    {
     "output_type": "stream",
     "name": "stdout",
     "text": "(168903, 14)\n"
    },
    {
     "output_type": "execute_result",
     "data": {
      "text/plain": "              business_id                         name  \\\n0  f9NumwFMBDn751xgFiRbNA     The Range At Lake Norman   \n1  Yzvjg0SayhoZgCljUJRF9Q            Carlos Santo, NMD   \n2  XNoUzKckATkOD1hP6vghZg                      Felinus   \n4  51M2Kk903DFYI6gnB5I6SQ      USE MY GUY SERVICES LLC   \n5  cKyLV5oWZJ2NudWgqs8VZw  Oasis Auto Center - Gilbert   \n\n                     address        city state postal_code   latitude  \\\n0            10913 Bailey Rd   Cornelius    NC       28031  35.462724   \n1  8880 E Via Linda, Ste 107  Scottsdale    AZ       85258  33.569404   \n2      3554 Rue Notre-Dame O    Montreal    QC     H4C 1P4  45.479984   \n4         4827 E Downing Cir        Mesa    AZ       85205  33.428065   \n5  1720 W Elliot Rd, Ste 105     Gilbert    AZ       85233  33.350399   \n\n    longitude  stars  review_count  is_open  \\\n0  -80.852612    3.5            36        1   \n1 -111.890264    5.0             4        1   \n2  -73.580070    5.0             5        1   \n4 -111.726648    4.5            26        1   \n5 -111.827142    4.5            38        1   \n\n                                          attributes  \\\n0  {'BusinessAcceptsCreditCards': 'True', 'BikePa...   \n1  {'GoodForKids': 'True', 'ByAppointmentOnly': '...   \n2                                               None   \n4  {'BusinessAcceptsCreditCards': 'True', 'ByAppo...   \n5             {'BusinessAcceptsCreditCards': 'True'}   \n\n                                          categories  \\\n0  Active Life, Gun/Rifle Ranges, Guns & Ammo, Sh...   \n1  Health & Medical, Fitness & Instruction, Yoga,...   \n2                   Pets, Pet Services, Pet Groomers   \n4  Home Services, Plumbing, Electricians, Handyma...   \n5  Auto Repair, Automotive, Oil Change Stations, ...   \n\n                                               hours  \n0  {'Monday': '10:0-18:0', 'Tuesday': '11:0-20:0'...  \n1                                               None  \n2                                               None  \n4  {'Monday': '0:0-0:0', 'Tuesday': '9:0-16:0', '...  \n5  {'Monday': '7:0-18:0', 'Tuesday': '7:0-18:0', ...  ",
      "text/html": "<div>\n<style scoped>\n    .dataframe tbody tr th:only-of-type {\n        vertical-align: middle;\n    }\n\n    .dataframe tbody tr th {\n        vertical-align: top;\n    }\n\n    .dataframe thead th {\n        text-align: right;\n    }\n</style>\n<table border=\"1\" class=\"dataframe\">\n  <thead>\n    <tr style=\"text-align: right;\">\n      <th></th>\n      <th>business_id</th>\n      <th>name</th>\n      <th>address</th>\n      <th>city</th>\n      <th>state</th>\n      <th>postal_code</th>\n      <th>latitude</th>\n      <th>longitude</th>\n      <th>stars</th>\n      <th>review_count</th>\n      <th>is_open</th>\n      <th>attributes</th>\n      <th>categories</th>\n      <th>hours</th>\n    </tr>\n  </thead>\n  <tbody>\n    <tr>\n      <th>0</th>\n      <td>f9NumwFMBDn751xgFiRbNA</td>\n      <td>The Range At Lake Norman</td>\n      <td>10913 Bailey Rd</td>\n      <td>Cornelius</td>\n      <td>NC</td>\n      <td>28031</td>\n      <td>35.462724</td>\n      <td>-80.852612</td>\n      <td>3.5</td>\n      <td>36</td>\n      <td>1</td>\n      <td>{'BusinessAcceptsCreditCards': 'True', 'BikePa...</td>\n      <td>Active Life, Gun/Rifle Ranges, Guns &amp; Ammo, Sh...</td>\n      <td>{'Monday': '10:0-18:0', 'Tuesday': '11:0-20:0'...</td>\n    </tr>\n    <tr>\n      <th>1</th>\n      <td>Yzvjg0SayhoZgCljUJRF9Q</td>\n      <td>Carlos Santo, NMD</td>\n      <td>8880 E Via Linda, Ste 107</td>\n      <td>Scottsdale</td>\n      <td>AZ</td>\n      <td>85258</td>\n      <td>33.569404</td>\n      <td>-111.890264</td>\n      <td>5.0</td>\n      <td>4</td>\n      <td>1</td>\n      <td>{'GoodForKids': 'True', 'ByAppointmentOnly': '...</td>\n      <td>Health &amp; Medical, Fitness &amp; Instruction, Yoga,...</td>\n      <td>None</td>\n    </tr>\n    <tr>\n      <th>2</th>\n      <td>XNoUzKckATkOD1hP6vghZg</td>\n      <td>Felinus</td>\n      <td>3554 Rue Notre-Dame O</td>\n      <td>Montreal</td>\n      <td>QC</td>\n      <td>H4C 1P4</td>\n      <td>45.479984</td>\n      <td>-73.580070</td>\n      <td>5.0</td>\n      <td>5</td>\n      <td>1</td>\n      <td>None</td>\n      <td>Pets, Pet Services, Pet Groomers</td>\n      <td>None</td>\n    </tr>\n    <tr>\n      <th>4</th>\n      <td>51M2Kk903DFYI6gnB5I6SQ</td>\n      <td>USE MY GUY SERVICES LLC</td>\n      <td>4827 E Downing Cir</td>\n      <td>Mesa</td>\n      <td>AZ</td>\n      <td>85205</td>\n      <td>33.428065</td>\n      <td>-111.726648</td>\n      <td>4.5</td>\n      <td>26</td>\n      <td>1</td>\n      <td>{'BusinessAcceptsCreditCards': 'True', 'ByAppo...</td>\n      <td>Home Services, Plumbing, Electricians, Handyma...</td>\n      <td>{'Monday': '0:0-0:0', 'Tuesday': '9:0-16:0', '...</td>\n    </tr>\n    <tr>\n      <th>5</th>\n      <td>cKyLV5oWZJ2NudWgqs8VZw</td>\n      <td>Oasis Auto Center - Gilbert</td>\n      <td>1720 W Elliot Rd, Ste 105</td>\n      <td>Gilbert</td>\n      <td>AZ</td>\n      <td>85233</td>\n      <td>33.350399</td>\n      <td>-111.827142</td>\n      <td>4.5</td>\n      <td>38</td>\n      <td>1</td>\n      <td>{'BusinessAcceptsCreditCards': 'True'}</td>\n      <td>Auto Repair, Automotive, Oil Change Stations, ...</td>\n      <td>{'Monday': '7:0-18:0', 'Tuesday': '7:0-18:0', ...</td>\n    </tr>\n  </tbody>\n</table>\n</div>"
     },
     "metadata": {},
     "execution_count": 35
    }
   ],
   "source": [
    "# Filter out businesses that are closed; save only the ones that are open into a new DataFrame\n",
    "yelp_business_data_new = yelp_business_data[yelp_business_data['is_open']==1]\n",
    "# Verify the open businesses\n",
    "print(yelp_business_data_new.shape)\n",
    "yelp_business_data_new.head()"
   ]
  },
  {
   "cell_type": "code",
   "execution_count": 36,
   "metadata": {},
   "outputs": [],
   "source": [
    "# Convert/Save the DataFrame of Yelp businessess to a new JSON records file\n",
    "orientation = \"records\"\n",
    "yelp_business_data_new.to_json(f\"assets/data/yelp_converted_business_dataset_{orientation}.json\", orient=orientation)"
   ]
  },
  {
   "cell_type": "code",
   "execution_count": 37,
   "metadata": {},
   "outputs": [
    {
     "output_type": "execute_result",
     "data": {
      "text/plain": "AZ     49415\nNV     31180\nON     28433\nOH     13762\nNC     13433\nPA     10206\nQC      8215\nAB      7038\nWI      4433\nIL      1593\nSC      1113\nNY        22\nCA        21\nTX         5\nWA         4\nAL         3\nGA         3\nVT         2\nUT         2\nNE         2\nMI         2\nCO         2\nBC         2\nFL         2\nOR         1\nDOW        1\nHI         1\nYT         1\nVA         1\nCT         1\nMB         1\nHPL        1\nDUR        1\nMO         1\nName: state, dtype: int64"
     },
     "metadata": {},
     "execution_count": 37
    }
   ],
   "source": [
    "# Verify the number of businesses in the dataset by State\n",
    "yelp_business_data_new.state.value_counts()"
   ]
  },
  {
   "cell_type": "code",
   "execution_count": 38,
   "metadata": {},
   "outputs": [
    {
     "output_type": "execute_result",
     "data": {
      "text/plain": "Las Vegas     25043\nPhoenix       16305\nToronto       14962\nCharlotte      8500\nScottsdale     7341\nCalgary        6772\nPittsburgh     6107\nMesa           5482\nMontréal       5367\nHenderson      4293\nName: city, dtype: int64"
     },
     "metadata": {},
     "execution_count": 38
    }
   ],
   "source": [
    "# Verify the number of businesses in the dataset by City\n",
    "yelp_business_data_new.city.value_counts().head(10)"
   ]
  },
  {
   "cell_type": "code",
   "execution_count": 39,
   "metadata": {},
   "outputs": [
    {
     "output_type": "execute_result",
     "data": {
      "text/plain": "               business_id                                     name  \\\n6   oiAlXZPIFm2nBCt0DHLu_Q                     Green World Cleaners   \n16  uZuh51lXu7tsrC8RAwkg1A                           Manolo Blahnik   \n36  fnZrZlqW1Z8iWgTVDfv_MA                                Carl's Jr   \n42  fhNf_sg-XzZ3e7HEVGuOZg                    Meat Chix And Wieners   \n51  5XMKDYmMGSKkCkrYoELxzg  Annette Thomas Hair Colorist Specialist   \n\n                                          address       city state  \\\n6                    6870 S Rainbow Blvd, Ste 117  Las Vegas    NV   \n16                            3131 Las Vegas Blvd  Las Vegas    NV   \n36                           9595 W Tropicana Ave  Las Vegas    NV   \n42                            6530 S Decatur Blvd  Las Vegas    NV   \n51  101 S Rainbow Blvd, Ste 23, Darby's Hairitage  Las Vegas    NV   \n\n   postal_code   latitude   longitude  stars  review_count  is_open  \\\n6        89118  36.063977 -115.241463    3.5            81        1   \n16       89109  36.125732 -115.167608    4.5            32        0   \n36       89147  36.099738 -115.301568    2.5            15        0   \n42       89118  36.071196 -115.207463    3.0            10        0   \n51       89107  36.172534 -115.244762    5.0             7        1   \n\n                                           attributes  \\\n6   {'BusinessParking': '{'garage': False, 'street...   \n16  {'BusinessParking': '{'garage': True, 'street'...   \n36  {'Alcohol': 'u'none'', 'WiFi': 'u'no'', 'GoodF...   \n42  {'RestaurantsPriceRange2': '2', 'BusinessParki...   \n51  {'GoodForKids': 'True', 'BusinessParking': '{'...   \n\n                                           categories  \\\n6   Dry Cleaning & Laundry, Local Services, Laundr...   \n16                     Shopping, Shoe Stores, Fashion   \n36                    Mexican, Restaurants, Fast Food   \n42  Burgers, Restaurants, American (Traditional), ...   \n51          Hair Stylists, Hair Salons, Beauty & Spas   \n\n                                                hours  \n6   {'Monday': '7:0-19:0', 'Tuesday': '7:0-19:0', ...  \n16                                               None  \n36                                               None  \n42  {'Monday': '11:0-22:0', 'Tuesday': '11:0-22:0'...  \n51                                               None  ",
      "text/html": "<div>\n<style scoped>\n    .dataframe tbody tr th:only-of-type {\n        vertical-align: middle;\n    }\n\n    .dataframe tbody tr th {\n        vertical-align: top;\n    }\n\n    .dataframe thead th {\n        text-align: right;\n    }\n</style>\n<table border=\"1\" class=\"dataframe\">\n  <thead>\n    <tr style=\"text-align: right;\">\n      <th></th>\n      <th>business_id</th>\n      <th>name</th>\n      <th>address</th>\n      <th>city</th>\n      <th>state</th>\n      <th>postal_code</th>\n      <th>latitude</th>\n      <th>longitude</th>\n      <th>stars</th>\n      <th>review_count</th>\n      <th>is_open</th>\n      <th>attributes</th>\n      <th>categories</th>\n      <th>hours</th>\n    </tr>\n  </thead>\n  <tbody>\n    <tr>\n      <th>6</th>\n      <td>oiAlXZPIFm2nBCt0DHLu_Q</td>\n      <td>Green World Cleaners</td>\n      <td>6870 S Rainbow Blvd, Ste 117</td>\n      <td>Las Vegas</td>\n      <td>NV</td>\n      <td>89118</td>\n      <td>36.063977</td>\n      <td>-115.241463</td>\n      <td>3.5</td>\n      <td>81</td>\n      <td>1</td>\n      <td>{'BusinessParking': '{'garage': False, 'street...</td>\n      <td>Dry Cleaning &amp; Laundry, Local Services, Laundr...</td>\n      <td>{'Monday': '7:0-19:0', 'Tuesday': '7:0-19:0', ...</td>\n    </tr>\n    <tr>\n      <th>16</th>\n      <td>uZuh51lXu7tsrC8RAwkg1A</td>\n      <td>Manolo Blahnik</td>\n      <td>3131 Las Vegas Blvd</td>\n      <td>Las Vegas</td>\n      <td>NV</td>\n      <td>89109</td>\n      <td>36.125732</td>\n      <td>-115.167608</td>\n      <td>4.5</td>\n      <td>32</td>\n      <td>0</td>\n      <td>{'BusinessParking': '{'garage': True, 'street'...</td>\n      <td>Shopping, Shoe Stores, Fashion</td>\n      <td>None</td>\n    </tr>\n    <tr>\n      <th>36</th>\n      <td>fnZrZlqW1Z8iWgTVDfv_MA</td>\n      <td>Carl's Jr</td>\n      <td>9595 W Tropicana Ave</td>\n      <td>Las Vegas</td>\n      <td>NV</td>\n      <td>89147</td>\n      <td>36.099738</td>\n      <td>-115.301568</td>\n      <td>2.5</td>\n      <td>15</td>\n      <td>0</td>\n      <td>{'Alcohol': 'u'none'', 'WiFi': 'u'no'', 'GoodF...</td>\n      <td>Mexican, Restaurants, Fast Food</td>\n      <td>None</td>\n    </tr>\n    <tr>\n      <th>42</th>\n      <td>fhNf_sg-XzZ3e7HEVGuOZg</td>\n      <td>Meat Chix And Wieners</td>\n      <td>6530 S Decatur Blvd</td>\n      <td>Las Vegas</td>\n      <td>NV</td>\n      <td>89118</td>\n      <td>36.071196</td>\n      <td>-115.207463</td>\n      <td>3.0</td>\n      <td>10</td>\n      <td>0</td>\n      <td>{'RestaurantsPriceRange2': '2', 'BusinessParki...</td>\n      <td>Burgers, Restaurants, American (Traditional), ...</td>\n      <td>{'Monday': '11:0-22:0', 'Tuesday': '11:0-22:0'...</td>\n    </tr>\n    <tr>\n      <th>51</th>\n      <td>5XMKDYmMGSKkCkrYoELxzg</td>\n      <td>Annette Thomas Hair Colorist Specialist</td>\n      <td>101 S Rainbow Blvd, Ste 23, Darby's Hairitage</td>\n      <td>Las Vegas</td>\n      <td>NV</td>\n      <td>89107</td>\n      <td>36.172534</td>\n      <td>-115.244762</td>\n      <td>5.0</td>\n      <td>7</td>\n      <td>1</td>\n      <td>{'GoodForKids': 'True', 'BusinessParking': '{'...</td>\n      <td>Hair Stylists, Hair Salons, Beauty &amp; Spas</td>\n      <td>None</td>\n    </tr>\n  </tbody>\n</table>\n</div>"
     },
     "metadata": {},
     "execution_count": 39
    }
   ],
   "source": [
    "# Filter on businesses that are in Las Vegas\n",
    "yelp_NV_data = yelp_business_data[yelp_business_data['city']=='Las Vegas']\n",
    "yelp_NV_data.head()"
   ]
  },
  {
   "cell_type": "code",
   "execution_count": 40,
   "metadata": {},
   "outputs": [],
   "source": [
    "# Read Yelp's Tips JSON dataset using Pandas\n",
    "yelp_tips_data_path = \"assets/data/yelp_academic_dataset_tip.json\"\n",
    "yelp_tips_data = pd.read_json(yelp_tips_data_path, lines=True)"
   ]
  },
  {
   "cell_type": "code",
   "execution_count": 41,
   "metadata": {},
   "outputs": [
    {
     "output_type": "stream",
     "name": "stdout",
     "text": "(1320761, 5)\n"
    },
    {
     "output_type": "execute_result",
     "data": {
      "text/plain": "                  user_id             business_id  \\\n0  hf27xTME3EiCp6NL6VtWZQ  UYX5zL_Xj9WEc_Wp-FrqHw   \n1  uEvusDwoSymbJJ0auR3muQ  Ch3HkwQYv1YKw_FO06vBWA   \n2  AY-laIws3S7YXNl_f_D6rQ  rDoT-MgxGRiYqCmi0bG10g   \n3  Ue_7yUlkEbX4AhnYdUfL7g  OHXnDV01gLokiX1ELaQufA   \n4  LltbT_fUMqZ-ZJP-vJ84IQ  GMrwDXRlAZU2zj5nH6l4vQ   \n\n                                                text                date  \\\n0                               Here for a quick mtg 2013-11-26 18:20:08   \n1                      Cucumber strawberry refresher 2014-06-15 22:26:45   \n2                   Very nice good service good food 2016-07-18 22:03:42   \n3         It's a small place. The staff is friendly. 2014-06-06 01:10:34   \n4  8 sandwiches, $24 total...what a bargain!!! An... 2011-04-08 18:12:01   \n\n   compliment_count  \n0                 0  \n1                 0  \n2                 0  \n3                 0  \n4                 0  ",
      "text/html": "<div>\n<style scoped>\n    .dataframe tbody tr th:only-of-type {\n        vertical-align: middle;\n    }\n\n    .dataframe tbody tr th {\n        vertical-align: top;\n    }\n\n    .dataframe thead th {\n        text-align: right;\n    }\n</style>\n<table border=\"1\" class=\"dataframe\">\n  <thead>\n    <tr style=\"text-align: right;\">\n      <th></th>\n      <th>user_id</th>\n      <th>business_id</th>\n      <th>text</th>\n      <th>date</th>\n      <th>compliment_count</th>\n    </tr>\n  </thead>\n  <tbody>\n    <tr>\n      <th>0</th>\n      <td>hf27xTME3EiCp6NL6VtWZQ</td>\n      <td>UYX5zL_Xj9WEc_Wp-FrqHw</td>\n      <td>Here for a quick mtg</td>\n      <td>2013-11-26 18:20:08</td>\n      <td>0</td>\n    </tr>\n    <tr>\n      <th>1</th>\n      <td>uEvusDwoSymbJJ0auR3muQ</td>\n      <td>Ch3HkwQYv1YKw_FO06vBWA</td>\n      <td>Cucumber strawberry refresher</td>\n      <td>2014-06-15 22:26:45</td>\n      <td>0</td>\n    </tr>\n    <tr>\n      <th>2</th>\n      <td>AY-laIws3S7YXNl_f_D6rQ</td>\n      <td>rDoT-MgxGRiYqCmi0bG10g</td>\n      <td>Very nice good service good food</td>\n      <td>2016-07-18 22:03:42</td>\n      <td>0</td>\n    </tr>\n    <tr>\n      <th>3</th>\n      <td>Ue_7yUlkEbX4AhnYdUfL7g</td>\n      <td>OHXnDV01gLokiX1ELaQufA</td>\n      <td>It's a small place. The staff is friendly.</td>\n      <td>2014-06-06 01:10:34</td>\n      <td>0</td>\n    </tr>\n    <tr>\n      <th>4</th>\n      <td>LltbT_fUMqZ-ZJP-vJ84IQ</td>\n      <td>GMrwDXRlAZU2zj5nH6l4vQ</td>\n      <td>8 sandwiches, $24 total...what a bargain!!! An...</td>\n      <td>2011-04-08 18:12:01</td>\n      <td>0</td>\n    </tr>\n  </tbody>\n</table>\n</div>"
     },
     "metadata": {},
     "execution_count": 41
    }
   ],
   "source": [
    "# Verify tips data\n",
    "print(yelp_tips_data.shape)\n",
    "yelp_tips_data.head()"
   ]
  },
  {
   "cell_type": "code",
   "execution_count": 42,
   "metadata": {},
   "outputs": [
    {
     "output_type": "execute_result",
     "data": {
      "text/plain": "0     1302089\n1       16914\n2        1448\n3         228\n4          50\n5          16\n6           8\n7           3\n15          1\n12          1\n11          1\n9           1\n8           1\nName: compliment_count, dtype: int64"
     },
     "metadata": {},
     "execution_count": 42
    }
   ],
   "source": [
    "# Verify user compliment counts in the tips dataset\n",
    "yelp_tips_data.compliment_count.value_counts()"
   ]
  },
  {
   "cell_type": "code",
   "execution_count": 43,
   "metadata": {},
   "outputs": [],
   "source": [
    "# Convert/Save the DataFrame of Yelp tips to a new JSON records file\n",
    "orientation = \"records\"\n",
    "yelp_tips_data.to_json(f\"assets/data/yelp_converted_tips_dataset_{orientation}.json\", orient=orientation)"
   ]
  },
  {
   "cell_type": "code",
   "execution_count": 44,
   "metadata": {},
   "outputs": [],
   "source": [
    "# Read Yelp's checkin JSON dataset using Pandas\n",
    "yelp_checkin_data_path = \"assets/data/yelp_academic_dataset_checkin.json\"\n",
    "yelp_checkin_data = pd.read_json(yelp_checkin_data_path, lines=True)"
   ]
  },
  {
   "cell_type": "code",
   "execution_count": 48,
   "metadata": {},
   "outputs": [
    {
     "output_type": "stream",
     "name": "stdout",
     "text": "(175187, 2)\n"
    },
    {
     "output_type": "execute_result",
     "data": {
      "text/plain": "              business_id                                               date\n0  --1UhMGODdWsrMastO9DZw  2016-04-26 19:49:16, 2016-08-30 18:36:57, 2016...\n1  --6MefnULPED_I942VcFNA  2011-06-04 18:22:23, 2011-07-23 23:51:33, 2012...\n2  --7zmmkVg-IMGaXbuVd0SQ  2014-12-29 19:25:50, 2015-01-17 01:49:14, 2015...\n3  --8LPVSo5i0Oo61X01sV9A                                2016-07-08 16:43:30\n4  --9QQLMTbFzLJ_oT-ON3Xw  2010-06-26 17:39:07, 2010-08-01 20:06:21, 2010...",
      "text/html": "<div>\n<style scoped>\n    .dataframe tbody tr th:only-of-type {\n        vertical-align: middle;\n    }\n\n    .dataframe tbody tr th {\n        vertical-align: top;\n    }\n\n    .dataframe thead th {\n        text-align: right;\n    }\n</style>\n<table border=\"1\" class=\"dataframe\">\n  <thead>\n    <tr style=\"text-align: right;\">\n      <th></th>\n      <th>business_id</th>\n      <th>date</th>\n    </tr>\n  </thead>\n  <tbody>\n    <tr>\n      <th>0</th>\n      <td>--1UhMGODdWsrMastO9DZw</td>\n      <td>2016-04-26 19:49:16, 2016-08-30 18:36:57, 2016...</td>\n    </tr>\n    <tr>\n      <th>1</th>\n      <td>--6MefnULPED_I942VcFNA</td>\n      <td>2011-06-04 18:22:23, 2011-07-23 23:51:33, 2012...</td>\n    </tr>\n    <tr>\n      <th>2</th>\n      <td>--7zmmkVg-IMGaXbuVd0SQ</td>\n      <td>2014-12-29 19:25:50, 2015-01-17 01:49:14, 2015...</td>\n    </tr>\n    <tr>\n      <th>3</th>\n      <td>--8LPVSo5i0Oo61X01sV9A</td>\n      <td>2016-07-08 16:43:30</td>\n    </tr>\n    <tr>\n      <th>4</th>\n      <td>--9QQLMTbFzLJ_oT-ON3Xw</td>\n      <td>2010-06-26 17:39:07, 2010-08-01 20:06:21, 2010...</td>\n    </tr>\n  </tbody>\n</table>\n</div>"
     },
     "metadata": {},
     "execution_count": 48
    }
   ],
   "source": [
    "# Verify checkin data\n",
    "print(yelp_checkin_data.shape)\n",
    "yelp_checkin_data.head()"
   ]
  },
  {
   "cell_type": "code",
   "execution_count": 46,
   "metadata": {},
   "outputs": [],
   "source": [
    "# Convert/Save the DataFrame of Yelp checkins to a new JSON records file\n",
    "orientation = \"records\"\n",
    "yelp_checkin_data.to_json(f\"assets/data/yelp_converted_checkin_dataset_{orientation}.json\", orient=orientation)"
   ]
  }
 ]
}